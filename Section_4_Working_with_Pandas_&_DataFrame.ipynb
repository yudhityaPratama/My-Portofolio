{
  "cells": [
    {
      "cell_type": "markdown",
      "source": [
        "## Section 4 - Working with Pandas & DataFrame"
      ],
      "metadata": {
        "id": "xdaj0r3qoYS6"
      },
      "id": "xdaj0r3qoYS6"
    },
    {
      "cell_type": "code",
      "execution_count": null,
      "id": "7c49a212-e2f5-456c-93a1-3dee4c033995",
      "metadata": {
        "id": "7c49a212-e2f5-456c-93a1-3dee4c033995"
      },
      "outputs": [],
      "source": [
        "import pandas as pd\n",
        "import numpy as np"
      ]
    },
    {
      "cell_type": "markdown",
      "source": [
        "#### Creating a DataFrame"
      ],
      "metadata": {
        "id": "YllLCR-ioPoK"
      },
      "id": "YllLCR-ioPoK"
    },
    {
      "cell_type": "code",
      "execution_count": null,
      "id": "42c9cc4d-c0ac-4341-a41e-acc9429b0983",
      "metadata": {
        "id": "42c9cc4d-c0ac-4341-a41e-acc9429b0983"
      },
      "outputs": [],
      "source": [
        "#Creating DataFrame from List of Lists"
      ]
    },
    {
      "cell_type": "code",
      "execution_count": null,
      "id": "1d7d20be-870a-432c-ad4a-00c3fd5bf0ff",
      "metadata": {
        "id": "1d7d20be-870a-432c-ad4a-00c3fd5bf0ff"
      },
      "outputs": [],
      "source": [
        "df = pd.DataFrame([[\"C1\", 10, \"Bandung\"],\n",
        "                  [\"C2\", 15, \"Jakarta\"],\n",
        "                  [\"C3\", 20, \"Bogor\"],\n",
        "                  [\"C4\", 35, \"Tangerang\"],\n",
        "                  [\"C5\", 4, \"Bali\"]],\n",
        "                  columns = [\"cust_id\", \"item_bought\", \"city\"])\n",
        "df"
      ]
    },
    {
      "cell_type": "code",
      "execution_count": null,
      "id": "611c171b-56e2-4245-93a4-63ea465dd4b6",
      "metadata": {
        "id": "611c171b-56e2-4245-93a4-63ea465dd4b6"
      },
      "outputs": [],
      "source": [
        "#Creating DataFrame from Numpy Array"
      ]
    },
    {
      "cell_type": "code",
      "execution_count": null,
      "id": "e455e1df-4c5c-4a52-bb92-abe511ceb8e4",
      "metadata": {
        "id": "e455e1df-4c5c-4a52-bb92-abe511ceb8e4"
      },
      "outputs": [],
      "source": [
        "df = pd.DataFrame(np.array([[\"C1\", 10, \"Bandung\"],\n",
        "                  [\"C2\", 15, \"Jakarta\"],\n",
        "                  [\"C3\", 20, \"Bogor\"],\n",
        "                  [\"C4\", 35, \"Tangerang\"],\n",
        "                  [\"C5\", 4, \"Bali\"]]),\n",
        "                  columns = [\"cust_id\", \"item_bought\", \"city\"])\n",
        "df"
      ]
    },
    {
      "cell_type": "code",
      "execution_count": null,
      "id": "21313d86-8609-4070-be95-df66345b3ae4",
      "metadata": {
        "id": "21313d86-8609-4070-be95-df66345b3ae4"
      },
      "outputs": [],
      "source": [
        "#Creating DataFrame from Dictionary"
      ]
    },
    {
      "cell_type": "code",
      "execution_count": null,
      "id": "fb62ed5e-223a-4e4e-9740-2579a3cc874e",
      "metadata": {
        "id": "fb62ed5e-223a-4e4e-9740-2579a3cc874e"
      },
      "outputs": [],
      "source": [
        "df = pd.DataFrame({\n",
        "    \"cust_id\": [\"C1\", \"C2\", \"C3\", \"C4\", \"C5\"],\n",
        "    \"item_bought\": [10,15,20,35,4],\n",
        "    \"city\": [\"Bandung\", \"Jakarta\", \"Bogor\", \"Tangerang\", \"Bali\"]\n",
        "    })\n",
        "df"
      ]
    },
    {
      "cell_type": "code",
      "execution_count": null,
      "id": "aaef09f4-b824-45f9-b946-a5be8fa80ab3",
      "metadata": {
        "id": "aaef09f4-b824-45f9-b946-a5be8fa80ab3"
      },
      "outputs": [],
      "source": [
        "#Saving a Dataframe"
      ]
    },
    {
      "cell_type": "code",
      "execution_count": null,
      "id": "59607c80-d156-466d-8eb5-95354762a3eb",
      "metadata": {
        "id": "59607c80-d156-466d-8eb5-95354762a3eb"
      },
      "outputs": [],
      "source": [
        "df.to_csv(\"customer.csv\", index = False)\n",
        "df.to_excel(\"customer.xlsx\", index = False)"
      ]
    },
    {
      "cell_type": "code",
      "execution_count": null,
      "id": "6e2df290-0934-4ba2-9604-5748850e7c2c",
      "metadata": {
        "id": "6e2df290-0934-4ba2-9604-5748850e7c2c"
      },
      "outputs": [],
      "source": [
        "#Load a Dataframe"
      ]
    },
    {
      "cell_type": "code",
      "execution_count": null,
      "id": "4e3f62a2-8494-49a6-b59a-cc4e17e20f5d",
      "metadata": {
        "id": "4e3f62a2-8494-49a6-b59a-cc4e17e20f5d"
      },
      "outputs": [],
      "source": [
        "df = pd.read_csv(\"customer.csv\")\n",
        "df = pd.read_excel(\"customer.xlsx\")"
      ]
    },
    {
      "cell_type": "markdown",
      "source": [
        "#### Basic Operations"
      ],
      "metadata": {
        "id": "9peXoavooew2"
      },
      "id": "9peXoavooew2"
    },
    {
      "cell_type": "code",
      "execution_count": null,
      "id": "c497cc97-786b-4340-a9ca-4e2502c52a89",
      "metadata": {
        "id": "c497cc97-786b-4340-a9ca-4e2502c52a89"
      },
      "outputs": [],
      "source": [
        "#Summary Info"
      ]
    },
    {
      "cell_type": "code",
      "execution_count": null,
      "metadata": {
        "id": "4n1hVYGQfY1u"
      },
      "outputs": [],
      "source": [
        "df.info()"
      ],
      "id": "4n1hVYGQfY1u"
    },
    {
      "cell_type": "code",
      "execution_count": null,
      "id": "1a419223-bc4f-4acf-bfde-1007270a937f",
      "metadata": {
        "id": "1a419223-bc4f-4acf-bfde-1007270a937f"
      },
      "outputs": [],
      "source": [
        "#Statistics of Numerical Columns"
      ]
    },
    {
      "cell_type": "code",
      "execution_count": null,
      "id": "8965b6d5-10e0-42de-82c8-ab857b10c9a9",
      "metadata": {
        "id": "8965b6d5-10e0-42de-82c8-ab857b10c9a9"
      },
      "outputs": [],
      "source": [
        "df.describe()"
      ]
    },
    {
      "cell_type": "code",
      "execution_count": null,
      "id": "f410fe12-947e-4a90-a341-5fb0b9b66179",
      "metadata": {
        "id": "f410fe12-947e-4a90-a341-5fb0b9b66179"
      },
      "outputs": [],
      "source": [
        "#Columns Name"
      ]
    },
    {
      "cell_type": "code",
      "execution_count": null,
      "id": "c99f6a4d-ca8a-4403-affc-40057ba58697",
      "metadata": {
        "id": "c99f6a4d-ca8a-4403-affc-40057ba58697"
      },
      "outputs": [],
      "source": [
        "df.columns"
      ]
    },
    {
      "cell_type": "code",
      "execution_count": null,
      "id": "0449650f-0362-415f-80b5-ecf1dc2aeafd",
      "metadata": {
        "id": "0449650f-0362-415f-80b5-ecf1dc2aeafd"
      },
      "outputs": [],
      "source": [
        "#DataFrame length"
      ]
    },
    {
      "cell_type": "code",
      "execution_count": null,
      "id": "889e863a-4701-45ee-8736-82943c650ef0",
      "metadata": {
        "id": "889e863a-4701-45ee-8736-82943c650ef0"
      },
      "outputs": [],
      "source": [
        "df.shape"
      ]
    },
    {
      "cell_type": "code",
      "execution_count": null,
      "id": "03dde147-f643-403c-9a45-967ae90d131c",
      "metadata": {
        "id": "03dde147-f643-403c-9a45-967ae90d131c"
      },
      "outputs": [],
      "source": [
        "df.shape[0]"
      ]
    },
    {
      "cell_type": "code",
      "execution_count": null,
      "id": "93afb955-e962-42b8-93ff-30cbd1cf0b4e",
      "metadata": {
        "id": "93afb955-e962-42b8-93ff-30cbd1cf0b4e"
      },
      "outputs": [],
      "source": [
        "df.shape[1]"
      ]
    },
    {
      "cell_type": "code",
      "execution_count": null,
      "id": "d8c096d1-d558-4bfb-86e7-b23340b904bb",
      "metadata": {
        "id": "d8c096d1-d558-4bfb-86e7-b23340b904bb"
      },
      "outputs": [],
      "source": [
        "#Values of a particular column"
      ]
    },
    {
      "cell_type": "code",
      "execution_count": null,
      "id": "5d2ae621-6b4b-42a0-a25f-ce1a37741bfd",
      "metadata": {
        "id": "5d2ae621-6b4b-42a0-a25f-ce1a37741bfd"
      },
      "outputs": [],
      "source": [
        "df[\"cust_id\"]"
      ]
    },
    {
      "cell_type": "code",
      "execution_count": null,
      "id": "b5b6719d-71c3-4c48-aaa1-b02a35f137e2",
      "metadata": {
        "id": "b5b6719d-71c3-4c48-aaa1-b02a35f137e2"
      },
      "outputs": [],
      "source": [
        "#Values of several columns"
      ]
    },
    {
      "cell_type": "code",
      "execution_count": null,
      "id": "73443f14-b2c1-4741-b35f-08c1669d6338",
      "metadata": {
        "id": "73443f14-b2c1-4741-b35f-08c1669d6338"
      },
      "outputs": [],
      "source": [
        "df[[\"cust_id\",\"city\"]]"
      ]
    },
    {
      "cell_type": "code",
      "execution_count": null,
      "id": "29ec13c8-f978-401e-a9fd-69ede5b31b56",
      "metadata": {
        "id": "29ec13c8-f978-401e-a9fd-69ede5b31b56"
      },
      "outputs": [],
      "source": [
        "#First N rows"
      ]
    },
    {
      "cell_type": "code",
      "execution_count": null,
      "id": "152c7fac-d0b2-41bd-93ce-b61332a5d75a",
      "metadata": {
        "id": "152c7fac-d0b2-41bd-93ce-b61332a5d75a"
      },
      "outputs": [],
      "source": [
        "df.head()"
      ]
    },
    {
      "cell_type": "code",
      "execution_count": null,
      "id": "4c0672b6-28fc-4308-a3b2-c871c56f8767",
      "metadata": {
        "id": "4c0672b6-28fc-4308-a3b2-c871c56f8767"
      },
      "outputs": [],
      "source": [
        "df.head(2)"
      ]
    },
    {
      "cell_type": "code",
      "execution_count": null,
      "id": "7cff7746-ed08-48f8-87bd-e346e6755e2c",
      "metadata": {
        "id": "7cff7746-ed08-48f8-87bd-e346e6755e2c"
      },
      "outputs": [],
      "source": [
        "#Last N rows"
      ]
    },
    {
      "cell_type": "code",
      "execution_count": null,
      "id": "4820aa5d-65e3-4c04-a381-65e4bacaf9ef",
      "metadata": {
        "id": "4820aa5d-65e3-4c04-a381-65e4bacaf9ef"
      },
      "outputs": [],
      "source": [
        "df.tail()"
      ]
    },
    {
      "cell_type": "code",
      "execution_count": null,
      "id": "4f8c7e0f-0bcd-4a9d-9999-15cfa68b762c",
      "metadata": {
        "id": "4f8c7e0f-0bcd-4a9d-9999-15cfa68b762c"
      },
      "outputs": [],
      "source": [
        "df.tail(2)"
      ]
    },
    {
      "cell_type": "code",
      "execution_count": null,
      "id": "98b1e586-e73f-4d5f-bbd5-c40fc4196809",
      "metadata": {
        "id": "98b1e586-e73f-4d5f-bbd5-c40fc4196809"
      },
      "outputs": [],
      "source": [
        "#Random N Rows"
      ]
    },
    {
      "cell_type": "code",
      "execution_count": null,
      "id": "4337a120-9828-43bf-a68c-1bd72a4936c6",
      "metadata": {
        "id": "4337a120-9828-43bf-a68c-1bd72a4936c6"
      },
      "outputs": [],
      "source": [
        "df.sample()"
      ]
    },
    {
      "cell_type": "code",
      "execution_count": null,
      "id": "1b03d393-dfd3-417a-9ccf-18c3e538cdc7",
      "metadata": {
        "id": "1b03d393-dfd3-417a-9ccf-18c3e538cdc7"
      },
      "outputs": [],
      "source": [
        "df.sample(3)"
      ]
    },
    {
      "cell_type": "markdown",
      "source": [
        "#### Data Filtering"
      ],
      "metadata": {
        "id": "edI5hjvBolMl"
      },
      "id": "edI5hjvBolMl"
    },
    {
      "cell_type": "code",
      "execution_count": null,
      "id": "19a80232-569e-492e-83aa-7ae1e57bf9c7",
      "metadata": {
        "id": "19a80232-569e-492e-83aa-7ae1e57bf9c7"
      },
      "outputs": [],
      "source": [
        "#Get the value of specific row and column (via its name)"
      ]
    },
    {
      "cell_type": "code",
      "execution_count": null,
      "id": "f353b265-5e71-443e-a655-43e34a820948",
      "metadata": {
        "id": "f353b265-5e71-443e-a655-43e34a820948"
      },
      "outputs": [],
      "source": [
        "df.loc[0,\"item_bought\"]"
      ]
    },
    {
      "cell_type": "code",
      "execution_count": null,
      "id": "878c1d48-b135-4025-8b11-c16137f516a9",
      "metadata": {
        "id": "878c1d48-b135-4025-8b11-c16137f516a9"
      },
      "outputs": [],
      "source": [
        "df.loc[3,\"city\"]"
      ]
    },
    {
      "cell_type": "code",
      "execution_count": null,
      "id": "cf9536c8-cd6a-4cb5-82eb-31c2cc81293f",
      "metadata": {
        "id": "cf9536c8-cd6a-4cb5-82eb-31c2cc81293f"
      },
      "outputs": [],
      "source": [
        "#Get the value of specific row and column (via its index num)"
      ]
    },
    {
      "cell_type": "code",
      "execution_count": null,
      "id": "40464cb3-4d05-465b-9bea-95b666ed66f3",
      "metadata": {
        "id": "40464cb3-4d05-465b-9bea-95b666ed66f3"
      },
      "outputs": [],
      "source": [
        "df.iloc[0,0]"
      ]
    },
    {
      "cell_type": "code",
      "execution_count": null,
      "id": "40ddebfd-960b-4608-ad0e-3310a2e63105",
      "metadata": {
        "id": "40ddebfd-960b-4608-ad0e-3310a2e63105"
      },
      "outputs": [],
      "source": [
        "df.iloc[3,1]"
      ]
    },
    {
      "cell_type": "code",
      "execution_count": null,
      "id": "13aa332d-1d97-4554-aabe-b1034dfeabfc",
      "metadata": {
        "id": "13aa332d-1d97-4554-aabe-b1034dfeabfc"
      },
      "outputs": [],
      "source": [
        "#Get the specific ranges of rows and columns (via its name)"
      ]
    },
    {
      "cell_type": "code",
      "execution_count": null,
      "id": "6ad51dbd-3ad9-47b4-af45-460f564e8654",
      "metadata": {
        "id": "6ad51dbd-3ad9-47b4-af45-460f564e8654"
      },
      "outputs": [],
      "source": [
        "df.loc[0:2,[\"item_bought\",\"city\"]]"
      ]
    },
    {
      "cell_type": "code",
      "execution_count": null,
      "id": "4aec2e1b-f347-479a-9919-55aeabf0768b",
      "metadata": {
        "id": "4aec2e1b-f347-479a-9919-55aeabf0768b"
      },
      "outputs": [],
      "source": [
        "#Get the specific ranges of rows and columns (via its index num)"
      ]
    },
    {
      "cell_type": "code",
      "execution_count": null,
      "id": "879001be-1a4b-474b-980c-d6232eefcf00",
      "metadata": {
        "id": "879001be-1a4b-474b-980c-d6232eefcf00"
      },
      "outputs": [],
      "source": [
        "df.iloc[0:3,0:2]"
      ]
    },
    {
      "cell_type": "code",
      "execution_count": null,
      "id": "7a85dc5f-f9bc-417f-97cc-462fc6f29213",
      "metadata": {
        "id": "7a85dc5f-f9bc-417f-97cc-462fc6f29213"
      },
      "outputs": [],
      "source": [
        "#Filter dataframe with a criteria"
      ]
    },
    {
      "cell_type": "code",
      "execution_count": null,
      "id": "a3641bb6-7735-492a-84ce-a09fcaf47f85",
      "metadata": {
        "id": "a3641bb6-7735-492a-84ce-a09fcaf47f85"
      },
      "outputs": [],
      "source": [
        "df[df[\"item_bought\"]>15]"
      ]
    },
    {
      "cell_type": "code",
      "execution_count": null,
      "id": "893ef1eb-db58-4f1c-80c5-a9af60b93d7d",
      "metadata": {
        "id": "893ef1eb-db58-4f1c-80c5-a9af60b93d7d"
      },
      "outputs": [],
      "source": [
        "#Filter dataframe with several criterias (AND)"
      ]
    },
    {
      "cell_type": "code",
      "execution_count": null,
      "id": "65ef4b75-7699-40b4-a78e-57df17693508",
      "metadata": {
        "id": "65ef4b75-7699-40b4-a78e-57df17693508"
      },
      "outputs": [],
      "source": [
        "df[(df[\"item_bought\"]>15) & (df[\"city\"]!= \"Bogor\")]"
      ]
    },
    {
      "cell_type": "code",
      "execution_count": null,
      "id": "defe8410-5ee1-43b0-af0d-5aaecd99225b",
      "metadata": {
        "id": "defe8410-5ee1-43b0-af0d-5aaecd99225b"
      },
      "outputs": [],
      "source": [
        "#Filter dataframe with several criterias (OR)"
      ]
    },
    {
      "cell_type": "code",
      "execution_count": null,
      "id": "66f4edd6-703e-4c10-a725-92ac84880b9c",
      "metadata": {
        "id": "66f4edd6-703e-4c10-a725-92ac84880b9c"
      },
      "outputs": [],
      "source": [
        "df[(df[\"item_bought\"]>15) | (df[\"city\"]!= \"Bogor\")]"
      ]
    },
    {
      "cell_type": "markdown",
      "source": [
        "#### Data Aggregation"
      ],
      "metadata": {
        "id": "pY6nymo4ou77"
      },
      "id": "pY6nymo4ou77"
    },
    {
      "cell_type": "code",
      "execution_count": null,
      "metadata": {
        "id": "09c48ae7-6276-499d-8c11-295835cadf3f"
      },
      "outputs": [],
      "source": [
        "#Value Counts"
      ],
      "id": "09c48ae7-6276-499d-8c11-295835cadf3f"
    },
    {
      "cell_type": "code",
      "execution_count": null,
      "metadata": {
        "id": "f4ce44a6-7c87-498d-a023-bb46b29fbf66"
      },
      "outputs": [],
      "source": [
        "iris[\"species\"].value_counts()"
      ],
      "id": "f4ce44a6-7c87-498d-a023-bb46b29fbf66"
    },
    {
      "cell_type": "code",
      "execution_count": null,
      "metadata": {
        "id": "88703520-f547-4d5e-8750-47dfa4efed50"
      },
      "outputs": [],
      "source": [
        "iris.value_counts()"
      ],
      "id": "88703520-f547-4d5e-8750-47dfa4efed50"
    },
    {
      "cell_type": "code",
      "execution_count": null,
      "metadata": {
        "id": "8108a7c9-6684-40a5-992f-e67488bf03b9"
      },
      "outputs": [],
      "source": [
        "#Group By, 1 aggregation"
      ],
      "id": "8108a7c9-6684-40a5-992f-e67488bf03b9"
    },
    {
      "cell_type": "code",
      "execution_count": null,
      "metadata": {
        "id": "5a93a352-7b87-446a-80e5-ba4a5bfba292"
      },
      "outputs": [],
      "source": [
        "iris.groupby(\"species\").max()"
      ],
      "id": "5a93a352-7b87-446a-80e5-ba4a5bfba292"
    },
    {
      "cell_type": "code",
      "execution_count": null,
      "metadata": {
        "id": "b23e95ba-f5b0-4766-9db1-18a5219b2d80"
      },
      "outputs": [],
      "source": [
        "iris.groupby(\"species\").min()"
      ],
      "id": "b23e95ba-f5b0-4766-9db1-18a5219b2d80"
    },
    {
      "cell_type": "code",
      "execution_count": null,
      "metadata": {
        "id": "15068f40-b649-4d62-ac6e-6db4fc74ed63"
      },
      "outputs": [],
      "source": [
        "iris.groupby(\"species\").sum()"
      ],
      "id": "15068f40-b649-4d62-ac6e-6db4fc74ed63"
    },
    {
      "cell_type": "code",
      "execution_count": null,
      "metadata": {
        "id": "b3db26d0-36b2-4815-a660-8d6940c61f24"
      },
      "outputs": [],
      "source": [
        "iris.groupby(\"species\").mean()"
      ],
      "id": "b3db26d0-36b2-4815-a660-8d6940c61f24"
    },
    {
      "cell_type": "code",
      "execution_count": null,
      "metadata": {
        "id": "6f43bc94-ee9c-4f4a-906f-15d71674309d"
      },
      "outputs": [],
      "source": [
        "iris.groupby(\"species\").median()"
      ],
      "id": "6f43bc94-ee9c-4f4a-906f-15d71674309d"
    },
    {
      "cell_type": "code",
      "execution_count": null,
      "metadata": {
        "id": "8d1a07e1-04f9-4b2c-b7dd-75d9e3e4a466"
      },
      "outputs": [],
      "source": [
        "iris.groupby(\"species\").count()"
      ],
      "id": "8d1a07e1-04f9-4b2c-b7dd-75d9e3e4a466"
    },
    {
      "cell_type": "code",
      "execution_count": null,
      "metadata": {
        "id": "5cb1aeeb-fa20-4294-ab0c-39da7f8687f1"
      },
      "outputs": [],
      "source": [
        "iris.groupby(\"species\").size()"
      ],
      "id": "5cb1aeeb-fa20-4294-ab0c-39da7f8687f1"
    },
    {
      "cell_type": "code",
      "execution_count": null,
      "metadata": {
        "id": "bd1d08dc-e5dd-4fb1-9081-65bf8e50817a"
      },
      "outputs": [],
      "source": [
        "iris.groupby(\"species\").describe()"
      ],
      "id": "bd1d08dc-e5dd-4fb1-9081-65bf8e50817a"
    },
    {
      "cell_type": "code",
      "execution_count": null,
      "metadata": {
        "id": "372c5c65-c3ca-4451-aa14-a7b06509f072"
      },
      "outputs": [],
      "source": [
        "iris.groupby(\"species\").describe().T"
      ],
      "id": "372c5c65-c3ca-4451-aa14-a7b06509f072"
    },
    {
      "cell_type": "code",
      "execution_count": null,
      "metadata": {
        "id": "20145fb7-5de3-483c-9b2b-7aaa87bc0e74"
      },
      "outputs": [],
      "source": [
        "iris.groupby(\"species\").agg([\"mean\", \"min\", \"sum\"])"
      ],
      "id": "20145fb7-5de3-483c-9b2b-7aaa87bc0e74"
    },
    {
      "cell_type": "code",
      "execution_count": null,
      "metadata": {
        "id": "d3716772-376f-4271-92b7-cc7e0b5d33e5"
      },
      "outputs": [],
      "source": [
        "iris.groupby(\"species\").agg({\"sepal_width\": [\"min\", \"max\"], \"petal_width\": \"mean\"})"
      ],
      "id": "d3716772-376f-4271-92b7-cc7e0b5d33e5"
    },
    {
      "cell_type": "code",
      "execution_count": null,
      "metadata": {
        "id": "99b6de35-ef97-4c5f-a131-adc622a1f57a"
      },
      "outputs": [],
      "source": [
        "iris.groupby([\"species\", \"petal_length\"]).min()"
      ],
      "id": "99b6de35-ef97-4c5f-a131-adc622a1f57a"
    },
    {
      "cell_type": "code",
      "execution_count": null,
      "metadata": {
        "id": "5a185473-d04c-47c4-8405-f941028fe106"
      },
      "outputs": [],
      "source": [
        "iris.groupby(iris[\"petal_length\"]>5).mean()"
      ],
      "id": "5a185473-d04c-47c4-8405-f941028fe106"
    },
    {
      "cell_type": "markdown",
      "source": [
        "#### Data Merging"
      ],
      "metadata": {
        "id": "gDGqCF4jpNHK"
      },
      "id": "gDGqCF4jpNHK"
    },
    {
      "cell_type": "code",
      "execution_count": null,
      "metadata": {
        "id": "1690e598-69de-429c-af4b-9fc8862480c9"
      },
      "outputs": [],
      "source": [
        "# Concat"
      ],
      "id": "1690e598-69de-429c-af4b-9fc8862480c9"
    },
    {
      "cell_type": "code",
      "execution_count": null,
      "metadata": {
        "id": "c14685c8-f81f-4548-9077-8a55ab17493b"
      },
      "outputs": [],
      "source": [
        "df1 = pd.DataFrame({\n",
        "    \"cust_id\": [\"C1\", \"C2\", \"C3\", \"C4\", \"C5\"],\n",
        "    \"item_bought\": [10,15,20,35,4],\n",
        "    \"city\": [\"Bandung\", \"Jakarta\", \"Bogor\", \"Tangerang\", \"Bali\"]\n",
        "    })\n",
        "df1"
      ],
      "id": "c14685c8-f81f-4548-9077-8a55ab17493b"
    },
    {
      "cell_type": "code",
      "execution_count": null,
      "metadata": {
        "id": "ec889efb-e545-40fc-9fb0-eab518e33488"
      },
      "outputs": [],
      "source": [
        "df2 = pd.DataFrame({\n",
        "    \"cust_id\": [\"C6\", \"C7\", \"C8\"],\n",
        "    \"item_bought\": [12,20,6],\n",
        "    \"city\": [\"Bandung\", \"Jakarta\", \"Jakarta\"]\n",
        "    })\n",
        "df2"
      ],
      "id": "ec889efb-e545-40fc-9fb0-eab518e33488"
    },
    {
      "cell_type": "code",
      "execution_count": null,
      "metadata": {
        "id": "3c162c08-9579-4a18-9bf1-47bbc3b3998c"
      },
      "outputs": [],
      "source": [
        "df3 = pd.DataFrame({\n",
        "    \"cust_no\": [\"C1\", \"C2\", \"C3\", \"C5\", \"C6\", \"C7\", \"C8\"],\n",
        "    \"age\": [24,31,23,40,35,28,34]\n",
        "    })\n",
        "df3"
      ],
      "id": "3c162c08-9579-4a18-9bf1-47bbc3b3998c"
    },
    {
      "cell_type": "code",
      "execution_count": null,
      "metadata": {
        "id": "63b9838e-1118-4f93-b161-08a5404e572a"
      },
      "outputs": [],
      "source": [
        "#Concat axis = 0"
      ],
      "id": "63b9838e-1118-4f93-b161-08a5404e572a"
    },
    {
      "cell_type": "code",
      "execution_count": null,
      "metadata": {
        "id": "a73b08b0-739b-4eef-ae7e-d5ab8276d5c0"
      },
      "outputs": [],
      "source": [
        "df_concat0 = pd.concat([df1, df2])\n",
        "df_concat0"
      ],
      "id": "a73b08b0-739b-4eef-ae7e-d5ab8276d5c0"
    },
    {
      "cell_type": "code",
      "execution_count": null,
      "metadata": {
        "id": "26e853f0-9c8a-4ce4-97d4-1c96c02dc8f1"
      },
      "outputs": [],
      "source": [
        "#Concat axis = 1"
      ],
      "id": "26e853f0-9c8a-4ce4-97d4-1c96c02dc8f1"
    },
    {
      "cell_type": "code",
      "execution_count": null,
      "metadata": {
        "id": "ccc51f71-1dfd-4535-a2e1-54f1e997a98e"
      },
      "outputs": [],
      "source": [
        "df_concat1 = pd.concat([df1, df3], axis = 1)\n",
        "df_concat1"
      ],
      "id": "ccc51f71-1dfd-4535-a2e1-54f1e997a98e"
    },
    {
      "cell_type": "code",
      "execution_count": null,
      "metadata": {
        "id": "60f15671-398f-4e90-a7ed-65186d502dd1"
      },
      "outputs": [],
      "source": [
        "# Merge"
      ],
      "id": "60f15671-398f-4e90-a7ed-65186d502dd1"
    },
    {
      "cell_type": "code",
      "execution_count": null,
      "metadata": {
        "id": "ae0f385c-7a80-449b-ade2-67ab9c42b1a6"
      },
      "outputs": [],
      "source": [
        "df1.merge(df3, left_on = \"cust_id\", right_on = \"cust_no\")"
      ],
      "id": "ae0f385c-7a80-449b-ade2-67ab9c42b1a6"
    },
    {
      "cell_type": "code",
      "execution_count": null,
      "metadata": {
        "id": "22677afc-412f-4ca7-8399-a6b4f66c8971"
      },
      "outputs": [],
      "source": [
        "df1.merge(df3, how = \"left\", left_on = \"cust_id\", right_on = \"cust_no\")"
      ],
      "id": "22677afc-412f-4ca7-8399-a6b4f66c8971"
    },
    {
      "cell_type": "code",
      "execution_count": null,
      "metadata": {
        "id": "61ceab83-faf4-4d06-9724-540b89be9230"
      },
      "outputs": [],
      "source": [
        "df1.merge(df3, how = \"right\", left_on = \"cust_id\", right_on = \"cust_no\")"
      ],
      "id": "61ceab83-faf4-4d06-9724-540b89be9230"
    },
    {
      "cell_type": "code",
      "execution_count": null,
      "metadata": {
        "id": "79916b67-7fa8-4118-aa53-8605946557da"
      },
      "outputs": [],
      "source": [
        "df1.merge(df3, how = \"inner\", left_on = \"cust_id\", right_on = \"cust_no\")"
      ],
      "id": "79916b67-7fa8-4118-aa53-8605946557da"
    },
    {
      "cell_type": "code",
      "execution_count": null,
      "metadata": {
        "id": "3590f8b9-6f67-4d8b-aee6-3cae9f48ce2e"
      },
      "outputs": [],
      "source": [
        "df1.merge(df3, how = \"outer\", left_on = \"cust_id\", right_on = \"cust_no\")"
      ],
      "id": "3590f8b9-6f67-4d8b-aee6-3cae9f48ce2e"
    },
    {
      "cell_type": "code",
      "execution_count": null,
      "metadata": {
        "id": "b1b8dd7e-2803-4044-aae8-a953e864fb86"
      },
      "outputs": [],
      "source": [
        "df1.merge(df3, how = \"outer\", left_on = \"cust_id\", right_on = \"cust_no\").drop(columns = \"cust_no\")"
      ],
      "id": "b1b8dd7e-2803-4044-aae8-a953e864fb86"
    },
    {
      "cell_type": "code",
      "execution_count": null,
      "id": "578770ac-dfc2-4261-a742-1b66398df6e9",
      "metadata": {
        "id": "578770ac-dfc2-4261-a742-1b66398df6e9"
      },
      "outputs": [],
      "source": []
    }
  ],
  "metadata": {
    "kernelspec": {
      "display_name": "Python 3",
      "language": "python",
      "name": "python3"
    },
    "language_info": {
      "codemirror_mode": {
        "name": "ipython",
        "version": 3
      },
      "file_extension": ".py",
      "mimetype": "text/x-python",
      "name": "python",
      "nbconvert_exporter": "python",
      "pygments_lexer": "ipython3",
      "version": "3.8.8"
    },
    "colab": {
      "provenance": []
    }
  },
  "nbformat": 4,
  "nbformat_minor": 5
}