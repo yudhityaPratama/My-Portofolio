{
 "cells": [
  {
   "cell_type": "code",
   "execution_count": 5,
   "id": "ce77895a-fea2-4683-a2b3-6d8ce941c05b",
   "metadata": {},
   "outputs": [
    {
     "name": "stdout",
     "output_type": "stream",
     "text": [
      "File berhasil dikompresi: C:\\Users\\HP\\latihan_data\\P4\\train1_compressed.csv.gz\n"
     ]
    }
   ],
   "source": [
    "import pandas as pd\n",
    "\n",
    "# Path yang benar (sesuaikan dengan lokasi sebenarnya)\n",
    "file_path = r'C:\\Users\\HP\\latihan_data\\P4\\train1.csv'  # contoh path absolut\n",
    "\n",
    "# Baca file\n",
    "df = pd.read_csv(file_path)\n",
    "\n",
    "# Kompresi dan simpan\n",
    "compressed_path = r'C:\\Users\\HP\\latihan_data\\P4\\train1_compressed.csv.gz'\n",
    "df.to_csv(compressed_path, index=False, compression='gzip')\n",
    "\n",
    "print(f\"File berhasil dikompresi: {compressed_path}\")"
   ]
  },
  {
   "cell_type": "code",
   "execution_count": null,
   "id": "f7ebf8b8-d2e3-48f4-8323-ae5ad226786c",
   "metadata": {},
   "outputs": [],
   "source": []
  }
 ],
 "metadata": {
  "kernelspec": {
   "display_name": "Python 3 (ipykernel)",
   "language": "python",
   "name": "python3"
  },
  "language_info": {
   "codemirror_mode": {
    "name": "ipython",
    "version": 3
   },
   "file_extension": ".py",
   "mimetype": "text/x-python",
   "name": "python",
   "nbconvert_exporter": "python",
   "pygments_lexer": "ipython3",
   "version": "3.11.7"
  }
 },
 "nbformat": 4,
 "nbformat_minor": 5
}
