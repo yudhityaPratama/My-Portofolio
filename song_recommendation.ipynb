{
 "cells": [
  {
   "cell_type": "code",
   "execution_count": 1,
   "id": "9b9d066e",
   "metadata": {},
   "outputs": [],
   "source": [
    "import pandas as pd"
   ]
  },
  {
   "cell_type": "code",
   "execution_count": 2,
   "id": "6b651694",
   "metadata": {},
   "outputs": [],
   "source": [
    "#df = pd.read_csv('song.csv')"
   ]
  },
  {
   "cell_type": "code",
   "execution_count": 3,
   "id": "2d8811ab",
   "metadata": {},
   "outputs": [],
   "source": [
    "n = 5  # every 5th line = 1% of the lines (because of to big, my laptop is crying :())\n",
    "df = pd.read_csv(\"song.csv\", header=0, skiprows=lambda i: i % n != 0)"
   ]
  },
  {
   "cell_type": "code",
   "execution_count": 4,
   "id": "3f994c3f",
   "metadata": {},
   "outputs": [],
   "source": [
    "a = []\n",
    "b = []\n",
    "c = []\n",
    "for x, y, z in zip(df['song_id'], df['title'], df.index):\n",
    "    if (x not in a) & (y not in b):\n",
    "        a.append(x)\n",
    "        b.append(y)\n",
    "    if (x not in a) & (y in b):\n",
    "        c.append(z)"
   ]
  },
  {
   "cell_type": "code",
   "execution_count": 5,
   "id": "3268ac50",
   "metadata": {},
   "outputs": [
    {
     "data": {
      "text/plain": [
       "[13624,\n",
       " 13625,\n",
       " 13626,\n",
       " 13627,\n",
       " 13628,\n",
       " 13629,\n",
       " 13630,\n",
       " 13631,\n",
       " 13632,\n",
       " 13633,\n",
       " 13634,\n",
       " 13635,\n",
       " 13636,\n",
       " 13637,\n",
       " 13638,\n",
       " 13639,\n",
       " 13640,\n",
       " 13641,\n",
       " 13642,\n",
       " 13643,\n",
       " 13644,\n",
       " 13645,\n",
       " 13646]"
      ]
     },
     "execution_count": 5,
     "metadata": {},
     "output_type": "execute_result"
    }
   ],
   "source": [
    "c"
   ]
  },
  {
   "cell_type": "code",
   "execution_count": 6,
   "id": "9e56c21f",
   "metadata": {},
   "outputs": [
    {
     "data": {
      "text/html": [
       "<div>\n",
       "<style scoped>\n",
       "    .dataframe tbody tr th:only-of-type {\n",
       "        vertical-align: middle;\n",
       "    }\n",
       "\n",
       "    .dataframe tbody tr th {\n",
       "        vertical-align: top;\n",
       "    }\n",
       "\n",
       "    .dataframe thead th {\n",
       "        text-align: right;\n",
       "    }\n",
       "</style>\n",
       "<table border=\"1\" class=\"dataframe\">\n",
       "  <thead>\n",
       "    <tr style=\"text-align: right;\">\n",
       "      <th></th>\n",
       "      <th>song_id</th>\n",
       "      <th>title</th>\n",
       "      <th>artist_name</th>\n",
       "      <th>user_id</th>\n",
       "      <th>rating</th>\n",
       "    </tr>\n",
       "  </thead>\n",
       "  <tbody>\n",
       "    <tr>\n",
       "      <th>0</th>\n",
       "      <td>5076</td>\n",
       "      <td>Eli_ The Barrow Boy</td>\n",
       "      <td>The Decemberists</td>\n",
       "      <td>23987</td>\n",
       "      <td>1</td>\n",
       "    </tr>\n",
       "    <tr>\n",
       "      <th>1</th>\n",
       "      <td>5076</td>\n",
       "      <td>Eli_ The Barrow Boy</td>\n",
       "      <td>The Decemberists</td>\n",
       "      <td>51542</td>\n",
       "      <td>1</td>\n",
       "    </tr>\n",
       "    <tr>\n",
       "      <th>2</th>\n",
       "      <td>5076</td>\n",
       "      <td>Eli_ The Barrow Boy</td>\n",
       "      <td>The Decemberists</td>\n",
       "      <td>38547</td>\n",
       "      <td>1</td>\n",
       "    </tr>\n",
       "    <tr>\n",
       "      <th>3</th>\n",
       "      <td>5076</td>\n",
       "      <td>Eli_ The Barrow Boy</td>\n",
       "      <td>The Decemberists</td>\n",
       "      <td>879</td>\n",
       "      <td>1</td>\n",
       "    </tr>\n",
       "    <tr>\n",
       "      <th>4</th>\n",
       "      <td>5076</td>\n",
       "      <td>Eli_ The Barrow Boy</td>\n",
       "      <td>The Decemberists</td>\n",
       "      <td>17932</td>\n",
       "      <td>1</td>\n",
       "    </tr>\n",
       "  </tbody>\n",
       "</table>\n",
       "</div>"
      ],
      "text/plain": [
       "   song_id                title       artist_name  user_id  rating\n",
       "0     5076  Eli_ The Barrow Boy  The Decemberists    23987       1\n",
       "1     5076  Eli_ The Barrow Boy  The Decemberists    51542       1\n",
       "2     5076  Eli_ The Barrow Boy  The Decemberists    38547       1\n",
       "3     5076  Eli_ The Barrow Boy  The Decemberists      879       1\n",
       "4     5076  Eli_ The Barrow Boy  The Decemberists    17932       1"
      ]
     },
     "execution_count": 6,
     "metadata": {},
     "output_type": "execute_result"
    }
   ],
   "source": [
    "df.head()"
   ]
  },
  {
   "cell_type": "code",
   "execution_count": 7,
   "id": "d993a2a1",
   "metadata": {},
   "outputs": [
    {
     "data": {
      "text/plain": [
       "song_id        0\n",
       "title          0\n",
       "artist_name    0\n",
       "user_id        0\n",
       "rating         0\n",
       "dtype: int64"
      ]
     },
     "execution_count": 7,
     "metadata": {},
     "output_type": "execute_result"
    }
   ],
   "source": [
    "df.isna().sum()"
   ]
  },
  {
   "cell_type": "markdown",
   "id": "f040612a",
   "metadata": {},
   "source": [
    "Buat dictionary:\n",
    "song_id : original_title\n",
    "original_title : song_id"
   ]
  },
  {
   "cell_type": "markdown",
   "id": "d3f7cf6d",
   "metadata": {},
   "source": [
    "### Check duplikat user review\n",
    "Apakah ada user yang memberi review 2x pada song yang sama? Bila ada drop salah satu row nya."
   ]
  },
  {
   "cell_type": "code",
   "execution_count": 8,
   "id": "4d53e1cc",
   "metadata": {},
   "outputs": [
    {
     "data": {
      "text/html": [
       "<div>\n",
       "<style scoped>\n",
       "    .dataframe tbody tr th:only-of-type {\n",
       "        vertical-align: middle;\n",
       "    }\n",
       "\n",
       "    .dataframe tbody tr th {\n",
       "        vertical-align: top;\n",
       "    }\n",
       "\n",
       "    .dataframe thead th {\n",
       "        text-align: right;\n",
       "    }\n",
       "</style>\n",
       "<table border=\"1\" class=\"dataframe\">\n",
       "  <thead>\n",
       "    <tr style=\"text-align: right;\">\n",
       "      <th></th>\n",
       "      <th>song_id</th>\n",
       "      <th>title</th>\n",
       "      <th>artist_name</th>\n",
       "      <th>user_id</th>\n",
       "      <th>rating</th>\n",
       "    </tr>\n",
       "  </thead>\n",
       "  <tbody>\n",
       "  </tbody>\n",
       "</table>\n",
       "</div>"
      ],
      "text/plain": [
       "Empty DataFrame\n",
       "Columns: [song_id, title, artist_name, user_id, rating]\n",
       "Index: []"
      ]
     },
     "execution_count": 8,
     "metadata": {},
     "output_type": "execute_result"
    }
   ],
   "source": [
    "df[df[['user_id', 'song_id']].duplicated()]"
   ]
  },
  {
   "cell_type": "code",
   "execution_count": 9,
   "id": "cdb71ab2",
   "metadata": {},
   "outputs": [],
   "source": [
    "df = df.drop(df[df[['user_id', 'song_id']].duplicated()].index).reset_index(drop=True)"
   ]
  },
  {
   "cell_type": "code",
   "execution_count": 10,
   "id": "a11c0043",
   "metadata": {},
   "outputs": [],
   "source": [
    "song_dict1 = {}\n",
    "song_dict2 = {}\n",
    "for x, y in zip(df['song_id'], df['title']):\n",
    "    if x not in song_dict1.keys():\n",
    "        song_dict1[x] = y\n",
    "        song_dict2[y] = x"
   ]
  },
  {
   "cell_type": "code",
   "execution_count": 11,
   "id": "eac35f88",
   "metadata": {},
   "outputs": [
    {
     "data": {
      "text/html": [
       "<div>\n",
       "<style scoped>\n",
       "    .dataframe tbody tr th:only-of-type {\n",
       "        vertical-align: middle;\n",
       "    }\n",
       "\n",
       "    .dataframe tbody tr th {\n",
       "        vertical-align: top;\n",
       "    }\n",
       "\n",
       "    .dataframe thead th {\n",
       "        text-align: right;\n",
       "    }\n",
       "</style>\n",
       "<table border=\"1\" class=\"dataframe\">\n",
       "  <thead>\n",
       "    <tr style=\"text-align: right;\">\n",
       "      <th></th>\n",
       "      <th>song_id</th>\n",
       "      <th>title</th>\n",
       "      <th>artist_name</th>\n",
       "      <th>user_id</th>\n",
       "      <th>rating</th>\n",
       "    </tr>\n",
       "  </thead>\n",
       "  <tbody>\n",
       "    <tr>\n",
       "      <th>0</th>\n",
       "      <td>5076</td>\n",
       "      <td>Eli_ The Barrow Boy</td>\n",
       "      <td>The Decemberists</td>\n",
       "      <td>23987</td>\n",
       "      <td>1</td>\n",
       "    </tr>\n",
       "    <tr>\n",
       "      <th>1</th>\n",
       "      <td>5076</td>\n",
       "      <td>Eli_ The Barrow Boy</td>\n",
       "      <td>The Decemberists</td>\n",
       "      <td>51542</td>\n",
       "      <td>1</td>\n",
       "    </tr>\n",
       "    <tr>\n",
       "      <th>2</th>\n",
       "      <td>5076</td>\n",
       "      <td>Eli_ The Barrow Boy</td>\n",
       "      <td>The Decemberists</td>\n",
       "      <td>38547</td>\n",
       "      <td>1</td>\n",
       "    </tr>\n",
       "    <tr>\n",
       "      <th>3</th>\n",
       "      <td>5076</td>\n",
       "      <td>Eli_ The Barrow Boy</td>\n",
       "      <td>The Decemberists</td>\n",
       "      <td>879</td>\n",
       "      <td>1</td>\n",
       "    </tr>\n",
       "    <tr>\n",
       "      <th>4</th>\n",
       "      <td>5076</td>\n",
       "      <td>Eli_ The Barrow Boy</td>\n",
       "      <td>The Decemberists</td>\n",
       "      <td>17932</td>\n",
       "      <td>1</td>\n",
       "    </tr>\n",
       "  </tbody>\n",
       "</table>\n",
       "</div>"
      ],
      "text/plain": [
       "   song_id                title       artist_name  user_id  rating\n",
       "0     5076  Eli_ The Barrow Boy  The Decemberists    23987       1\n",
       "1     5076  Eli_ The Barrow Boy  The Decemberists    51542       1\n",
       "2     5076  Eli_ The Barrow Boy  The Decemberists    38547       1\n",
       "3     5076  Eli_ The Barrow Boy  The Decemberists      879       1\n",
       "4     5076  Eli_ The Barrow Boy  The Decemberists    17932       1"
      ]
     },
     "execution_count": 11,
     "metadata": {},
     "output_type": "execute_result"
    }
   ],
   "source": [
    "df.head()"
   ]
  },
  {
   "cell_type": "markdown",
   "id": "7aba183c",
   "metadata": {},
   "source": [
    "Buat custom function rekomendasi song berdasarkan average rating tertinggi yang menerima 3 argumen:\n",
    "1. jumlah song yang direkomendasikan\n",
    "2. batas rating count untuk song yang dimasukan dalam rekomendasi\n",
    "3. dataset (boleh ditransformasi)\n",
    "\n",
    "Print rekomendasi 50 song yang telah diberi rating oleh minimal 100 orang."
   ]
  },
  {
   "cell_type": "code",
   "execution_count": 12,
   "id": "e5283cc9",
   "metadata": {},
   "outputs": [
    {
     "data": {
      "text/plain": [
       "song_id\n",
       "16      134\n",
       "28       19\n",
       "44       15\n",
       "45       23\n",
       "98       22\n",
       "       ... \n",
       "9873     11\n",
       "9904     32\n",
       "9921     20\n",
       "9936     47\n",
       "9956     18\n",
       "Name: user_id, Length: 470, dtype: int64"
      ]
     },
     "execution_count": 12,
     "metadata": {},
     "output_type": "execute_result"
    }
   ],
   "source": [
    "df.groupby('song_id').count()['user_id']"
   ]
  },
  {
   "cell_type": "code",
   "execution_count": 13,
   "id": "f6d06138",
   "metadata": {},
   "outputs": [
    {
     "data": {
      "text/plain": [
       "song_id\n",
       "16      1.164179\n",
       "28      1.263158\n",
       "44      1.000000\n",
       "45      1.086957\n",
       "98      1.090909\n",
       "          ...   \n",
       "9873    1.090909\n",
       "9904    1.343750\n",
       "9921    1.150000\n",
       "9936    1.085106\n",
       "9956    1.222222\n",
       "Name: rating, Length: 470, dtype: float64"
      ]
     },
     "execution_count": 13,
     "metadata": {},
     "output_type": "execute_result"
    }
   ],
   "source": [
    "df.groupby('song_id').mean()['rating']"
   ]
  },
  {
   "cell_type": "code",
   "execution_count": 14,
   "id": "9c380640",
   "metadata": {},
   "outputs": [],
   "source": [
    "popular = pd.DataFrame({'count':df.groupby('song_id').count()['user_id'],\n",
    "                       'rating':df.groupby('song_id').mean()['rating']})"
   ]
  },
  {
   "cell_type": "code",
   "execution_count": 15,
   "id": "238740e6",
   "metadata": {},
   "outputs": [
    {
     "data": {
      "text/html": [
       "<div>\n",
       "<style scoped>\n",
       "    .dataframe tbody tr th:only-of-type {\n",
       "        vertical-align: middle;\n",
       "    }\n",
       "\n",
       "    .dataframe tbody tr th {\n",
       "        vertical-align: top;\n",
       "    }\n",
       "\n",
       "    .dataframe thead th {\n",
       "        text-align: right;\n",
       "    }\n",
       "</style>\n",
       "<table border=\"1\" class=\"dataframe\">\n",
       "  <thead>\n",
       "    <tr style=\"text-align: right;\">\n",
       "      <th></th>\n",
       "      <th>count</th>\n",
       "      <th>rating</th>\n",
       "    </tr>\n",
       "    <tr>\n",
       "      <th>song_id</th>\n",
       "      <th></th>\n",
       "      <th></th>\n",
       "    </tr>\n",
       "  </thead>\n",
       "  <tbody>\n",
       "    <tr>\n",
       "      <th>16</th>\n",
       "      <td>134</td>\n",
       "      <td>1.164179</td>\n",
       "    </tr>\n",
       "    <tr>\n",
       "      <th>28</th>\n",
       "      <td>19</td>\n",
       "      <td>1.263158</td>\n",
       "    </tr>\n",
       "    <tr>\n",
       "      <th>44</th>\n",
       "      <td>15</td>\n",
       "      <td>1.000000</td>\n",
       "    </tr>\n",
       "    <tr>\n",
       "      <th>45</th>\n",
       "      <td>23</td>\n",
       "      <td>1.086957</td>\n",
       "    </tr>\n",
       "    <tr>\n",
       "      <th>98</th>\n",
       "      <td>22</td>\n",
       "      <td>1.090909</td>\n",
       "    </tr>\n",
       "  </tbody>\n",
       "</table>\n",
       "</div>"
      ],
      "text/plain": [
       "         count    rating\n",
       "song_id                 \n",
       "16         134  1.164179\n",
       "28          19  1.263158\n",
       "44          15  1.000000\n",
       "45          23  1.086957\n",
       "98          22  1.090909"
      ]
     },
     "execution_count": 15,
     "metadata": {},
     "output_type": "execute_result"
    }
   ],
   "source": [
    "popular.head()"
   ]
  },
  {
   "cell_type": "code",
   "execution_count": 16,
   "id": "89157c16",
   "metadata": {},
   "outputs": [],
   "source": [
    "def popular_recom(k, count, dataset):\n",
    "    a = []\n",
    "    popular2 = dataset[dataset['count']>=count].sort_values('rating', ascending=False)\n",
    "    for x in popular2.index[:k]:\n",
    "        a.append(song_dict1[x])\n",
    "    return a"
   ]
  },
  {
   "cell_type": "code",
   "execution_count": 17,
   "id": "7d97e3a0",
   "metadata": {},
   "outputs": [
    {
     "data": {
      "text/plain": [
       "['Victoria (LP Version)',\n",
       " 'Fuck Kitty',\n",
       " 'Matricide',\n",
       " 'Microdaze',\n",
       " 'I Never Told You',\n",
       " 'Helena (So Long & Goodnight) (Album Version)',\n",
       " 'Californication (Album Version)',\n",
       " 'Howlin\\x19 For You',\n",
       " 'Overboard',\n",
       " 'Forgot About Dre',\n",
       " 'Naive',\n",
       " 'Fix You',\n",
       " 'Mockingbird',\n",
       " 'How You Remind Me',\n",
       " 'Caring Is Creepy',\n",
       " 'Empire State Of Mind (Part II) Broken Down',\n",
       " 'More Than Words',\n",
       " 'STARSTRUKK [FEATURINGKATYPERRY] (Explicit Bonus Version)',\n",
       " 'Infinity',\n",
       " 'Do You Remember',\n",
       " 'Speed Of Sound',\n",
       " 'Constellations',\n",
       " 'Flume',\n",
       " 'Mykonos',\n",
       " 'Aerodynamic (Daft Punk Remix)',\n",
       " 'Hearts On Fire',\n",
       " 'Coda']"
      ]
     },
     "execution_count": 17,
     "metadata": {},
     "output_type": "execute_result"
    }
   ],
   "source": [
    "popular_recom(50, 100, popular)"
   ]
  },
  {
   "cell_type": "code",
   "execution_count": 18,
   "id": "2ea15077",
   "metadata": {},
   "outputs": [],
   "source": [
    "#pip install surprise"
   ]
  },
  {
   "cell_type": "code",
   "execution_count": 19,
   "id": "b05b53d9",
   "metadata": {},
   "outputs": [],
   "source": [
    "#conda install -c conda-forge scikit-surprise"
   ]
  },
  {
   "cell_type": "code",
   "execution_count": 20,
   "id": "98b57c08",
   "metadata": {},
   "outputs": [],
   "source": [
    "from surprise import KNNBasic, Dataset, Reader, accuracy\n",
    "from surprise.model_selection import train_test_split, GridSearchCV"
   ]
  },
  {
   "cell_type": "code",
   "execution_count": 21,
   "id": "f085c5a7",
   "metadata": {},
   "outputs": [],
   "source": [
    "df2 = df[['user_id', 'song_id', 'rating']]"
   ]
  },
  {
   "cell_type": "code",
   "execution_count": 22,
   "id": "e83714b1",
   "metadata": {},
   "outputs": [
    {
     "data": {
      "text/html": [
       "<div>\n",
       "<style scoped>\n",
       "    .dataframe tbody tr th:only-of-type {\n",
       "        vertical-align: middle;\n",
       "    }\n",
       "\n",
       "    .dataframe tbody tr th {\n",
       "        vertical-align: top;\n",
       "    }\n",
       "\n",
       "    .dataframe thead th {\n",
       "        text-align: right;\n",
       "    }\n",
       "</style>\n",
       "<table border=\"1\" class=\"dataframe\">\n",
       "  <thead>\n",
       "    <tr style=\"text-align: right;\">\n",
       "      <th></th>\n",
       "      <th>user_id</th>\n",
       "      <th>song_id</th>\n",
       "      <th>rating</th>\n",
       "    </tr>\n",
       "  </thead>\n",
       "  <tbody>\n",
       "    <tr>\n",
       "      <th>0</th>\n",
       "      <td>23987</td>\n",
       "      <td>5076</td>\n",
       "      <td>1</td>\n",
       "    </tr>\n",
       "    <tr>\n",
       "      <th>1</th>\n",
       "      <td>51542</td>\n",
       "      <td>5076</td>\n",
       "      <td>1</td>\n",
       "    </tr>\n",
       "    <tr>\n",
       "      <th>2</th>\n",
       "      <td>38547</td>\n",
       "      <td>5076</td>\n",
       "      <td>1</td>\n",
       "    </tr>\n",
       "    <tr>\n",
       "      <th>3</th>\n",
       "      <td>879</td>\n",
       "      <td>5076</td>\n",
       "      <td>1</td>\n",
       "    </tr>\n",
       "    <tr>\n",
       "      <th>4</th>\n",
       "      <td>17932</td>\n",
       "      <td>5076</td>\n",
       "      <td>1</td>\n",
       "    </tr>\n",
       "  </tbody>\n",
       "</table>\n",
       "</div>"
      ],
      "text/plain": [
       "   user_id  song_id  rating\n",
       "0    23987     5076       1\n",
       "1    51542     5076       1\n",
       "2    38547     5076       1\n",
       "3      879     5076       1\n",
       "4    17932     5076       1"
      ]
     },
     "execution_count": 22,
     "metadata": {},
     "output_type": "execute_result"
    }
   ],
   "source": [
    "df2.head()"
   ]
  },
  {
   "cell_type": "code",
   "execution_count": 23,
   "id": "6f7ff212",
   "metadata": {},
   "outputs": [
    {
     "name": "stdout",
     "output_type": "stream",
     "text": [
      "<class 'pandas.core.frame.DataFrame'>\n",
      "RangeIndex: 17389 entries, 0 to 17388\n",
      "Data columns (total 3 columns):\n",
      " #   Column   Non-Null Count  Dtype\n",
      "---  ------   --------------  -----\n",
      " 0   user_id  17389 non-null  int64\n",
      " 1   song_id  17389 non-null  int64\n",
      " 2   rating   17389 non-null  int64\n",
      "dtypes: int64(3)\n",
      "memory usage: 407.7 KB\n"
     ]
    }
   ],
   "source": [
    "df2.info()"
   ]
  },
  {
   "cell_type": "markdown",
   "id": "f39eefb1",
   "metadata": {},
   "source": [
    "### Splitting Train (80%) and Test Dataset (20%)"
   ]
  },
  {
   "cell_type": "code",
   "execution_count": 24,
   "id": "ab7f7221",
   "metadata": {},
   "outputs": [],
   "source": [
    "reader = Reader(rating_scale=(0,5))\n",
    "data = Dataset.load_from_df(df2, reader)\n",
    "trainset, testset = train_test_split(data, test_size=0.2, random_state=42)"
   ]
  },
  {
   "cell_type": "code",
   "execution_count": 25,
   "id": "fb4c8446",
   "metadata": {},
   "outputs": [],
   "source": [
    "param_grid = {'k': [20, 30, 40],\n",
    "             'min_k': [3, 6, 9],\n",
    "             'sim_options' : {'name': ['msd', 'pearson', 'cosine'],\n",
    "                             'user_based': [True]}}\n",
    "gscv = GridSearchCV(KNNBasic, param_grid, cv=4, measures = ['rmse'])"
   ]
  },
  {
   "cell_type": "code",
   "execution_count": 26,
   "id": "e3e56940",
   "metadata": {
    "collapsed": true,
    "jupyter": {
     "outputs_hidden": true
    },
    "scrolled": true,
    "tags": []
   },
   "outputs": [
    {
     "name": "stdout",
     "output_type": "stream",
     "text": [
      "Computing the msd similarity matrix...\n",
      "Done computing similarity matrix.\n",
      "Computing the msd similarity matrix...\n",
      "Done computing similarity matrix.\n",
      "Computing the msd similarity matrix...\n",
      "Done computing similarity matrix.\n",
      "Computing the msd similarity matrix...\n",
      "Done computing similarity matrix.\n",
      "Computing the pearson similarity matrix...\n",
      "Done computing similarity matrix.\n",
      "Computing the pearson similarity matrix...\n",
      "Done computing similarity matrix.\n",
      "Computing the pearson similarity matrix...\n",
      "Done computing similarity matrix.\n",
      "Computing the pearson similarity matrix...\n",
      "Done computing similarity matrix.\n",
      "Computing the cosine similarity matrix...\n",
      "Done computing similarity matrix.\n",
      "Computing the cosine similarity matrix...\n",
      "Done computing similarity matrix.\n",
      "Computing the cosine similarity matrix...\n",
      "Done computing similarity matrix.\n",
      "Computing the cosine similarity matrix...\n",
      "Done computing similarity matrix.\n",
      "Computing the msd similarity matrix...\n",
      "Done computing similarity matrix.\n",
      "Computing the msd similarity matrix...\n",
      "Done computing similarity matrix.\n",
      "Computing the msd similarity matrix...\n",
      "Done computing similarity matrix.\n",
      "Computing the msd similarity matrix...\n",
      "Done computing similarity matrix.\n",
      "Computing the pearson similarity matrix...\n",
      "Done computing similarity matrix.\n",
      "Computing the pearson similarity matrix...\n",
      "Done computing similarity matrix.\n",
      "Computing the pearson similarity matrix...\n",
      "Done computing similarity matrix.\n",
      "Computing the pearson similarity matrix...\n",
      "Done computing similarity matrix.\n",
      "Computing the cosine similarity matrix...\n",
      "Done computing similarity matrix.\n",
      "Computing the cosine similarity matrix...\n",
      "Done computing similarity matrix.\n",
      "Computing the cosine similarity matrix...\n",
      "Done computing similarity matrix.\n",
      "Computing the cosine similarity matrix...\n",
      "Done computing similarity matrix.\n",
      "Computing the msd similarity matrix...\n",
      "Done computing similarity matrix.\n",
      "Computing the msd similarity matrix...\n",
      "Done computing similarity matrix.\n",
      "Computing the msd similarity matrix...\n",
      "Done computing similarity matrix.\n",
      "Computing the msd similarity matrix...\n",
      "Done computing similarity matrix.\n",
      "Computing the pearson similarity matrix...\n",
      "Done computing similarity matrix.\n",
      "Computing the pearson similarity matrix...\n",
      "Done computing similarity matrix.\n",
      "Computing the pearson similarity matrix...\n",
      "Done computing similarity matrix.\n",
      "Computing the pearson similarity matrix...\n",
      "Done computing similarity matrix.\n",
      "Computing the cosine similarity matrix...\n",
      "Done computing similarity matrix.\n",
      "Computing the cosine similarity matrix...\n",
      "Done computing similarity matrix.\n",
      "Computing the cosine similarity matrix...\n",
      "Done computing similarity matrix.\n",
      "Computing the cosine similarity matrix...\n",
      "Done computing similarity matrix.\n",
      "Computing the msd similarity matrix...\n",
      "Done computing similarity matrix.\n",
      "Computing the msd similarity matrix...\n",
      "Done computing similarity matrix.\n",
      "Computing the msd similarity matrix...\n",
      "Done computing similarity matrix.\n",
      "Computing the msd similarity matrix...\n",
      "Done computing similarity matrix.\n",
      "Computing the pearson similarity matrix...\n",
      "Done computing similarity matrix.\n",
      "Computing the pearson similarity matrix...\n",
      "Done computing similarity matrix.\n",
      "Computing the pearson similarity matrix...\n",
      "Done computing similarity matrix.\n",
      "Computing the pearson similarity matrix...\n",
      "Done computing similarity matrix.\n",
      "Computing the cosine similarity matrix...\n",
      "Done computing similarity matrix.\n",
      "Computing the cosine similarity matrix...\n",
      "Done computing similarity matrix.\n",
      "Computing the cosine similarity matrix...\n",
      "Done computing similarity matrix.\n",
      "Computing the cosine similarity matrix...\n",
      "Done computing similarity matrix.\n",
      "Computing the msd similarity matrix...\n",
      "Done computing similarity matrix.\n",
      "Computing the msd similarity matrix...\n",
      "Done computing similarity matrix.\n",
      "Computing the msd similarity matrix...\n",
      "Done computing similarity matrix.\n",
      "Computing the msd similarity matrix...\n",
      "Done computing similarity matrix.\n",
      "Computing the pearson similarity matrix...\n",
      "Done computing similarity matrix.\n",
      "Computing the pearson similarity matrix...\n",
      "Done computing similarity matrix.\n",
      "Computing the pearson similarity matrix...\n",
      "Done computing similarity matrix.\n",
      "Computing the pearson similarity matrix...\n",
      "Done computing similarity matrix.\n",
      "Computing the cosine similarity matrix...\n",
      "Done computing similarity matrix.\n",
      "Computing the cosine similarity matrix...\n",
      "Done computing similarity matrix.\n",
      "Computing the cosine similarity matrix...\n",
      "Done computing similarity matrix.\n",
      "Computing the cosine similarity matrix...\n",
      "Done computing similarity matrix.\n",
      "Computing the msd similarity matrix...\n",
      "Done computing similarity matrix.\n",
      "Computing the msd similarity matrix...\n",
      "Done computing similarity matrix.\n",
      "Computing the msd similarity matrix...\n",
      "Done computing similarity matrix.\n",
      "Computing the msd similarity matrix...\n",
      "Done computing similarity matrix.\n",
      "Computing the pearson similarity matrix...\n",
      "Done computing similarity matrix.\n",
      "Computing the pearson similarity matrix...\n",
      "Done computing similarity matrix.\n",
      "Computing the pearson similarity matrix...\n",
      "Done computing similarity matrix.\n",
      "Computing the pearson similarity matrix...\n",
      "Done computing similarity matrix.\n",
      "Computing the cosine similarity matrix...\n",
      "Done computing similarity matrix.\n",
      "Computing the cosine similarity matrix...\n",
      "Done computing similarity matrix.\n",
      "Computing the cosine similarity matrix...\n",
      "Done computing similarity matrix.\n",
      "Computing the cosine similarity matrix...\n",
      "Done computing similarity matrix.\n",
      "Computing the msd similarity matrix...\n",
      "Done computing similarity matrix.\n",
      "Computing the msd similarity matrix...\n",
      "Done computing similarity matrix.\n",
      "Computing the msd similarity matrix...\n",
      "Done computing similarity matrix.\n",
      "Computing the msd similarity matrix...\n",
      "Done computing similarity matrix.\n",
      "Computing the pearson similarity matrix...\n",
      "Done computing similarity matrix.\n",
      "Computing the pearson similarity matrix...\n",
      "Done computing similarity matrix.\n",
      "Computing the pearson similarity matrix...\n",
      "Done computing similarity matrix.\n",
      "Computing the pearson similarity matrix...\n",
      "Done computing similarity matrix.\n",
      "Computing the cosine similarity matrix...\n",
      "Done computing similarity matrix.\n",
      "Computing the cosine similarity matrix...\n",
      "Done computing similarity matrix.\n",
      "Computing the cosine similarity matrix...\n",
      "Done computing similarity matrix.\n",
      "Computing the cosine similarity matrix...\n",
      "Done computing similarity matrix.\n",
      "Computing the msd similarity matrix...\n",
      "Done computing similarity matrix.\n",
      "Computing the msd similarity matrix...\n",
      "Done computing similarity matrix.\n",
      "Computing the msd similarity matrix...\n",
      "Done computing similarity matrix.\n",
      "Computing the msd similarity matrix...\n",
      "Done computing similarity matrix.\n",
      "Computing the pearson similarity matrix...\n",
      "Done computing similarity matrix.\n",
      "Computing the pearson similarity matrix...\n",
      "Done computing similarity matrix.\n",
      "Computing the pearson similarity matrix...\n",
      "Done computing similarity matrix.\n",
      "Computing the pearson similarity matrix...\n",
      "Done computing similarity matrix.\n",
      "Computing the cosine similarity matrix...\n",
      "Done computing similarity matrix.\n",
      "Computing the cosine similarity matrix...\n",
      "Done computing similarity matrix.\n",
      "Computing the cosine similarity matrix...\n",
      "Done computing similarity matrix.\n",
      "Computing the cosine similarity matrix...\n",
      "Done computing similarity matrix.\n",
      "Computing the msd similarity matrix...\n",
      "Done computing similarity matrix.\n",
      "Computing the msd similarity matrix...\n",
      "Done computing similarity matrix.\n",
      "Computing the msd similarity matrix...\n",
      "Done computing similarity matrix.\n",
      "Computing the msd similarity matrix...\n",
      "Done computing similarity matrix.\n",
      "Computing the pearson similarity matrix...\n",
      "Done computing similarity matrix.\n",
      "Computing the pearson similarity matrix...\n",
      "Done computing similarity matrix.\n",
      "Computing the pearson similarity matrix...\n",
      "Done computing similarity matrix.\n",
      "Computing the pearson similarity matrix...\n",
      "Done computing similarity matrix.\n",
      "Computing the cosine similarity matrix...\n",
      "Done computing similarity matrix.\n",
      "Computing the cosine similarity matrix...\n",
      "Done computing similarity matrix.\n",
      "Computing the cosine similarity matrix...\n",
      "Done computing similarity matrix.\n",
      "Computing the cosine similarity matrix...\n",
      "Done computing similarity matrix.\n"
     ]
    }
   ],
   "source": [
    "gscv.fit(data)"
   ]
  },
  {
   "cell_type": "code",
   "execution_count": 27,
   "id": "0c03d063",
   "metadata": {},
   "outputs": [
    {
     "data": {
      "text/plain": [
       "{'rmse': {'k': 20,\n",
       "  'min_k': 3,\n",
       "  'sim_options': {'name': 'pearson', 'user_based': True}}}"
      ]
     },
     "execution_count": 27,
     "metadata": {},
     "output_type": "execute_result"
    }
   ],
   "source": [
    "gscv.best_params"
   ]
  },
  {
   "cell_type": "code",
   "execution_count": 28,
   "id": "c709739c",
   "metadata": {},
   "outputs": [
    {
     "data": {
      "text/plain": [
       "{'rmse': 0.49066105007470284}"
      ]
     },
     "execution_count": 28,
     "metadata": {},
     "output_type": "execute_result"
    }
   ],
   "source": [
    "gscv.best_score"
   ]
  },
  {
   "cell_type": "code",
   "execution_count": 29,
   "id": "ce13fb05",
   "metadata": {},
   "outputs": [
    {
     "name": "stdout",
     "output_type": "stream",
     "text": [
      "Computing the msd similarity matrix...\n",
      "Done computing similarity matrix.\n"
     ]
    },
    {
     "data": {
      "text/plain": [
       "<surprise.prediction_algorithms.knns.KNNBasic at 0x2072006b2b0>"
      ]
     },
     "execution_count": 29,
     "metadata": {},
     "output_type": "execute_result"
    }
   ],
   "source": [
    "knn_user = KNNBasic(**gscv.best_params)\n",
    "knn_user.fit(trainset)"
   ]
  },
  {
   "cell_type": "code",
   "execution_count": 30,
   "id": "30009943",
   "metadata": {},
   "outputs": [
    {
     "name": "stdout",
     "output_type": "stream",
     "text": [
      "RMSE: 0.4879\n"
     ]
    },
    {
     "data": {
      "text/plain": [
       "0.48791818695903694"
      ]
     },
     "execution_count": 30,
     "metadata": {},
     "output_type": "execute_result"
    }
   ],
   "source": [
    "prediction = knn_user.test(testset)\n",
    "accuracy.rmse(prediction)"
   ]
  },
  {
   "cell_type": "markdown",
   "id": "bab42195",
   "metadata": {},
   "source": [
    "buat list song yang pernah diberi review oleh user 4, dan buat list song yang belum pernah diberi review oleh user 4"
   ]
  },
  {
   "cell_type": "code",
   "execution_count": 31,
   "id": "09cc4329",
   "metadata": {},
   "outputs": [],
   "source": [
    "b = []\n",
    "c = []\n",
    "for x in df2['song_id'].unique():\n",
    "    if x in df2[df2['user_id']==4]['song_id'].unique():\n",
    "        b.append(x)\n",
    "    else:\n",
    "        c.append(x)"
   ]
  },
  {
   "cell_type": "code",
   "execution_count": 32,
   "id": "494a626b",
   "metadata": {},
   "outputs": [
    {
     "name": "stdout",
     "output_type": "stream",
     "text": [
      "user: 4          item: 1371       r_ui = 4.00   est = 1.19   {'was_impossible': True, 'reason': 'User and/or item is unknown.'}\n"
     ]
    },
    {
     "data": {
      "text/plain": [
       "Prediction(uid=4, iid=1371, r_ui=4, est=1.1912155847890158, details={'was_impossible': True, 'reason': 'User and/or item is unknown.'})"
      ]
     },
     "execution_count": 32,
     "metadata": {},
     "output_type": "execute_result"
    }
   ],
   "source": [
    "knn_user.predict(4,1371, r_ui=4, verbose=True)"
   ]
  },
  {
   "cell_type": "code",
   "execution_count": 33,
   "id": "3aae8738",
   "metadata": {},
   "outputs": [
    {
     "name": "stdout",
     "output_type": "stream",
     "text": [
      "user: 4          item: 1405       r_ui = None   est = 1.19   {'was_impossible': True, 'reason': 'User and/or item is unknown.'}\n"
     ]
    },
    {
     "data": {
      "text/plain": [
       "Prediction(uid=4, iid=1405, r_ui=None, est=1.1912155847890158, details={'was_impossible': True, 'reason': 'User and/or item is unknown.'})"
      ]
     },
     "execution_count": 33,
     "metadata": {},
     "output_type": "execute_result"
    }
   ],
   "source": [
    "knn_user.predict(4,1405, verbose=True)"
   ]
  },
  {
   "cell_type": "code",
   "execution_count": 34,
   "id": "2cd8f534",
   "metadata": {},
   "outputs": [
    {
     "data": {
      "text/plain": [
       "1.1912155847890158"
      ]
     },
     "execution_count": 34,
     "metadata": {},
     "output_type": "execute_result"
    }
   ],
   "source": [
    "knn_user.predict(4,1405).est"
   ]
  },
  {
   "cell_type": "markdown",
   "id": "adae59b8",
   "metadata": {},
   "source": [
    "Fungsi custom untuk mendapatkan rekomendasi berdasarkan collaborative filtering user-user\n",
    "\n",
    "1. dataset\n",
    "2. user_id\n",
    "3. k\n",
    "4. algo\n",
    "\n",
    "Print top 10 rekomendasi song untuk user 4 dengan algoritma user-user (nama song+estimasi rating))"
   ]
  },
  {
   "cell_type": "code",
   "execution_count": 43,
   "id": "b1bc2c27",
   "metadata": {},
   "outputs": [
    {
     "data": {
      "text/html": [
       "<div>\n",
       "<style scoped>\n",
       "    .dataframe tbody tr th:only-of-type {\n",
       "        vertical-align: middle;\n",
       "    }\n",
       "\n",
       "    .dataframe tbody tr th {\n",
       "        vertical-align: top;\n",
       "    }\n",
       "\n",
       "    .dataframe thead th {\n",
       "        text-align: right;\n",
       "    }\n",
       "</style>\n",
       "<table border=\"1\" class=\"dataframe\">\n",
       "  <thead>\n",
       "    <tr style=\"text-align: right;\">\n",
       "      <th></th>\n",
       "      <th>user_id</th>\n",
       "      <th>song_id</th>\n",
       "      <th>rating</th>\n",
       "    </tr>\n",
       "  </thead>\n",
       "  <tbody>\n",
       "    <tr>\n",
       "      <th>0</th>\n",
       "      <td>23987</td>\n",
       "      <td>5076</td>\n",
       "      <td>1</td>\n",
       "    </tr>\n",
       "    <tr>\n",
       "      <th>1</th>\n",
       "      <td>51542</td>\n",
       "      <td>5076</td>\n",
       "      <td>1</td>\n",
       "    </tr>\n",
       "    <tr>\n",
       "      <th>2</th>\n",
       "      <td>38547</td>\n",
       "      <td>5076</td>\n",
       "      <td>1</td>\n",
       "    </tr>\n",
       "    <tr>\n",
       "      <th>3</th>\n",
       "      <td>879</td>\n",
       "      <td>5076</td>\n",
       "      <td>1</td>\n",
       "    </tr>\n",
       "    <tr>\n",
       "      <th>4</th>\n",
       "      <td>17932</td>\n",
       "      <td>5076</td>\n",
       "      <td>1</td>\n",
       "    </tr>\n",
       "  </tbody>\n",
       "</table>\n",
       "</div>"
      ],
      "text/plain": [
       "   user_id  song_id  rating\n",
       "0    23987     5076       1\n",
       "1    51542     5076       1\n",
       "2    38547     5076       1\n",
       "3      879     5076       1\n",
       "4    17932     5076       1"
      ]
     },
     "execution_count": 43,
     "metadata": {},
     "output_type": "execute_result"
    }
   ],
   "source": [
    "df2.head()"
   ]
  },
  {
   "cell_type": "code",
   "execution_count": 35,
   "id": "286d1603",
   "metadata": {},
   "outputs": [],
   "source": [
    "def get_recom_user(dataset, user, k, algo):\n",
    "    dataset_user = pd.pivot_table(dataset, index='user_id', columns='song_id').loc[user]\n",
    "    dataset_user_null = dataset_user[dataset_user.isnull()].reset_index()\n",
    "    non_interacted = []\n",
    "    for x,y in zip(dataset_user_null.loc[:,user], dataset_user_null.loc[:,'song_id']):\n",
    "        if pd.isnull(x) == True:\n",
    "            non_interacted.append(y)\n",
    "    non_interacted_df = {'song':{}, 'estimated_rating':{}}\n",
    "    for x, y in zip(non_interacted, range(len(non_interacted))):\n",
    "        non_interacted_df['song'][y] = song_dict1[x]\n",
    "        non_interacted_df['estimated_rating'][y] = algo.predict(user, x).est\n",
    "    f = pd.DataFrame(non_interacted_df).sort_values('estimated_rating', ascending=False).iloc[:k,:]\n",
    "    return f"
   ]
  },
  {
   "cell_type": "code",
   "execution_count": 50,
   "id": "2c615dd9",
   "metadata": {},
   "outputs": [
    {
     "data": {
      "text/html": [
       "<div>\n",
       "<style scoped>\n",
       "    .dataframe tbody tr th:only-of-type {\n",
       "        vertical-align: middle;\n",
       "    }\n",
       "\n",
       "    .dataframe tbody tr th {\n",
       "        vertical-align: top;\n",
       "    }\n",
       "\n",
       "    .dataframe thead th {\n",
       "        text-align: right;\n",
       "    }\n",
       "</style>\n",
       "<table border=\"1\" class=\"dataframe\">\n",
       "  <thead>\n",
       "    <tr style=\"text-align: right;\">\n",
       "      <th></th>\n",
       "      <th>song</th>\n",
       "      <th>estimated_rating</th>\n",
       "    </tr>\n",
       "  </thead>\n",
       "  <tbody>\n",
       "    <tr>\n",
       "      <th>252</th>\n",
       "      <td>The Handshake</td>\n",
       "      <td>5.000000</td>\n",
       "    </tr>\n",
       "    <tr>\n",
       "      <th>384</th>\n",
       "      <td>Naughty Girl</td>\n",
       "      <td>2.000000</td>\n",
       "    </tr>\n",
       "    <tr>\n",
       "      <th>75</th>\n",
       "      <td>Army of Me</td>\n",
       "      <td>2.000000</td>\n",
       "    </tr>\n",
       "    <tr>\n",
       "      <th>337</th>\n",
       "      <td>Victoria (LP Version)</td>\n",
       "      <td>2.000000</td>\n",
       "    </tr>\n",
       "    <tr>\n",
       "      <th>106</th>\n",
       "      <td>Cult Status</td>\n",
       "      <td>2.000000</td>\n",
       "    </tr>\n",
       "    <tr>\n",
       "      <th>97</th>\n",
       "      <td>One Of The Boys</td>\n",
       "      <td>2.000000</td>\n",
       "    </tr>\n",
       "    <tr>\n",
       "      <th>191</th>\n",
       "      <td>On Bended Knee</td>\n",
       "      <td>2.000000</td>\n",
       "    </tr>\n",
       "    <tr>\n",
       "      <th>89</th>\n",
       "      <td>Drugs</td>\n",
       "      <td>2.000000</td>\n",
       "    </tr>\n",
       "    <tr>\n",
       "      <th>195</th>\n",
       "      <td>It's My Life</td>\n",
       "      <td>2.000000</td>\n",
       "    </tr>\n",
       "    <tr>\n",
       "      <th>396</th>\n",
       "      <td>Fix You</td>\n",
       "      <td>1.750000</td>\n",
       "    </tr>\n",
       "    <tr>\n",
       "      <th>358</th>\n",
       "      <td>Infinity</td>\n",
       "      <td>1.500000</td>\n",
       "    </tr>\n",
       "    <tr>\n",
       "      <th>170</th>\n",
       "      <td>Fuck Kitty</td>\n",
       "      <td>1.333333</td>\n",
       "    </tr>\n",
       "    <tr>\n",
       "      <th>314</th>\n",
       "      <td>I Remember</td>\n",
       "      <td>1.191216</td>\n",
       "    </tr>\n",
       "    <tr>\n",
       "      <th>312</th>\n",
       "      <td>El duelo</td>\n",
       "      <td>1.191216</td>\n",
       "    </tr>\n",
       "    <tr>\n",
       "      <th>315</th>\n",
       "      <td>Everybody Know</td>\n",
       "      <td>1.191216</td>\n",
       "    </tr>\n",
       "    <tr>\n",
       "      <th>311</th>\n",
       "      <td>¡Viva La Gloria! (Album Version)</td>\n",
       "      <td>1.191216</td>\n",
       "    </tr>\n",
       "    <tr>\n",
       "      <th>310</th>\n",
       "      <td>Warrior's Dance</td>\n",
       "      <td>1.191216</td>\n",
       "    </tr>\n",
       "    <tr>\n",
       "      <th>309</th>\n",
       "      <td>aNYway</td>\n",
       "      <td>1.191216</td>\n",
       "    </tr>\n",
       "    <tr>\n",
       "      <th>313</th>\n",
       "      <td>Waiting For A Dream</td>\n",
       "      <td>1.191216</td>\n",
       "    </tr>\n",
       "    <tr>\n",
       "      <th>0</th>\n",
       "      <td>STARSTRUKK [FEATURINGKATYPERRY] (Explicit Bonu...</td>\n",
       "      <td>1.191216</td>\n",
       "    </tr>\n",
       "  </tbody>\n",
       "</table>\n",
       "</div>"
      ],
      "text/plain": [
       "                                                  song  estimated_rating\n",
       "252                                      The Handshake          5.000000\n",
       "384                                       Naughty Girl          2.000000\n",
       "75                                          Army of Me          2.000000\n",
       "337                              Victoria (LP Version)          2.000000\n",
       "106                                        Cult Status          2.000000\n",
       "97                                     One Of The Boys          2.000000\n",
       "191                                     On Bended Knee          2.000000\n",
       "89                                               Drugs          2.000000\n",
       "195                                       It's My Life          2.000000\n",
       "396                                            Fix You          1.750000\n",
       "358                                           Infinity          1.500000\n",
       "170                                         Fuck Kitty          1.333333\n",
       "314                                         I Remember          1.191216\n",
       "312                                           El duelo          1.191216\n",
       "315                                     Everybody Know          1.191216\n",
       "311                   ¡Viva La Gloria! (Album Version)          1.191216\n",
       "310                                    Warrior's Dance          1.191216\n",
       "309                                             aNYway          1.191216\n",
       "313                                Waiting For A Dream          1.191216\n",
       "0    STARSTRUKK [FEATURINGKATYPERRY] (Explicit Bonu...          1.191216"
      ]
     },
     "execution_count": 50,
     "metadata": {},
     "output_type": "execute_result"
    }
   ],
   "source": [
    "get_recom_user(df2, 10, 20, knn_user)"
   ]
  },
  {
   "cell_type": "code",
   "execution_count": null,
   "id": "6a1b39c2",
   "metadata": {},
   "outputs": [],
   "source": []
  }
 ],
 "metadata": {
  "kernelspec": {
   "display_name": "Python 3 (ipykernel)",
   "language": "python",
   "name": "python3"
  },
  "language_info": {
   "codemirror_mode": {
    "name": "ipython",
    "version": 3
   },
   "file_extension": ".py",
   "mimetype": "text/x-python",
   "name": "python",
   "nbconvert_exporter": "python",
   "pygments_lexer": "ipython3",
   "version": "3.11.7"
  }
 },
 "nbformat": 4,
 "nbformat_minor": 5
}
