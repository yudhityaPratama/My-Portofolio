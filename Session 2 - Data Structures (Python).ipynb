{
 "cells": [
  {
   "cell_type": "markdown",
   "metadata": {
    "id": "IaTLt1xG3mjX"
   },
   "source": [
    "## Session 2 - Data Structures (Python)"
   ]
  },
  {
   "cell_type": "markdown",
   "metadata": {
    "id": "CDkHHuvK3mjb"
   },
   "source": [
    "#### Variable"
   ]
  },
  {
   "cell_type": "code",
   "execution_count": null,
   "metadata": {
    "id": "M7Zk0Qf83mjc"
   },
   "outputs": [],
   "source": [
    "tinggi_badan = 173"
   ]
  },
  {
   "cell_type": "code",
   "execution_count": null,
   "metadata": {
    "id": "yaGI1NBp46iH"
   },
   "outputs": [],
   "source": [
    "print(tinggi_badan)"
   ]
  },
  {
   "cell_type": "markdown",
   "metadata": {
    "id": "OFcrQdt33mjd"
   },
   "source": [
    "#### Data Types in Python"
   ]
  },
  {
   "cell_type": "markdown",
   "metadata": {
    "id": "uEzwQnRP3mjd"
   },
   "source": [
    "[Reference](https://www.w3schools.com/python/python_datatypes.asp)"
   ]
  },
  {
   "cell_type": "markdown",
   "metadata": {
    "id": "zBUM53bY3mjd"
   },
   "source": [
    "##### String"
   ]
  },
  {
   "cell_type": "code",
   "execution_count": null,
   "metadata": {
    "colab": {
     "base_uri": "https://localhost:8080/"
    },
    "executionInfo": {
     "elapsed": 1381,
     "status": "ok",
     "timestamp": 1668424975681,
     "user": {
      "displayName": "Stephanie Fani",
      "userId": "03013489333346707504"
     },
     "user_tz": -420
    },
    "id": "Nmg1Y9_r3mjd",
    "outputId": "4518dcc7-10f3-4998-c7db-82a81600b820"
   },
   "outputs": [
    {
     "data": {
      "text/plain": [
       "str"
      ]
     },
     "execution_count": 1,
     "metadata": {},
     "output_type": "execute_result"
    }
   ],
   "source": [
    "nama = 'Ammar'\n",
    "type(nama)"
   ]
  },
  {
   "cell_type": "markdown",
   "metadata": {
    "id": "4CESPKSG3mje"
   },
   "source": [
    "##### Int"
   ]
  },
  {
   "cell_type": "code",
   "execution_count": null,
   "metadata": {
    "colab": {
     "base_uri": "https://localhost:8080/"
    },
    "executionInfo": {
     "elapsed": 7,
     "status": "ok",
     "timestamp": 1668424975682,
     "user": {
      "displayName": "Stephanie Fani",
      "userId": "03013489333346707504"
     },
     "user_tz": -420
    },
    "id": "RovGuhnO3mje",
    "outputId": "3890d1b4-5636-4d7b-9c8c-49e4eb757146"
   },
   "outputs": [
    {
     "data": {
      "text/plain": [
       "int"
      ]
     },
     "execution_count": 2,
     "metadata": {},
     "output_type": "execute_result"
    }
   ],
   "source": [
    "luast_persegi = 150 \n",
    "type(luast_persegi)"
   ]
  },
  {
   "cell_type": "markdown",
   "metadata": {
    "id": "tKXVkF6C3mje"
   },
   "source": [
    "##### Float"
   ]
  },
  {
   "cell_type": "code",
   "execution_count": null,
   "metadata": {
    "colab": {
     "base_uri": "https://localhost:8080/"
    },
    "executionInfo": {
     "elapsed": 6,
     "status": "ok",
     "timestamp": 1668424975682,
     "user": {
      "displayName": "Stephanie Fani",
      "userId": "03013489333346707504"
     },
     "user_tz": -420
    },
    "id": "-jqRqqfo3mje",
    "outputId": "82d7a708-8645-4ce7-fa14-e8284b7360cf"
   },
   "outputs": [
    {
     "data": {
      "text/plain": [
       "float"
      ]
     },
     "execution_count": 3,
     "metadata": {},
     "output_type": "execute_result"
    }
   ],
   "source": [
    "index_prestasi = 3.7 \n",
    "type(index_prestasi)"
   ]
  },
  {
   "cell_type": "markdown",
   "metadata": {
    "id": "Q0U45ANv3mje"
   },
   "source": [
    "##### Boolean"
   ]
  },
  {
   "cell_type": "code",
   "execution_count": null,
   "metadata": {
    "colab": {
     "base_uri": "https://localhost:8080/"
    },
    "executionInfo": {
     "elapsed": 5,
     "status": "ok",
     "timestamp": 1668424975682,
     "user": {
      "displayName": "Stephanie Fani",
      "userId": "03013489333346707504"
     },
     "user_tz": -420
    },
    "id": "QwBSpxPb3mje",
    "outputId": "ec84a367-59a7-44f8-bbe3-b09e4bdce507"
   },
   "outputs": [
    {
     "data": {
      "text/plain": [
       "bool"
      ]
     },
     "execution_count": 4,
     "metadata": {},
     "output_type": "execute_result"
    }
   ],
   "source": [
    "pelanggan_baru = True\n",
    "type(pelanggan_baru)"
   ]
  },
  {
   "cell_type": "markdown",
   "metadata": {
    "id": "g-HMvA5c3mjg"
   },
   "source": [
    "#### Numeric Operations"
   ]
  },
  {
   "cell_type": "code",
   "execution_count": null,
   "metadata": {
    "id": "Ia3ekD5P3mjg"
   },
   "outputs": [],
   "source": [
    "a = 2\n",
    "b = 3\n",
    "#dilakukan operasi a dijumlahkan dengan b\n",
    "penjumlahan = a+b\n",
    "penjumlahan"
   ]
  },
  {
   "cell_type": "code",
   "execution_count": null,
   "metadata": {
    "id": "nZql4CfC3mjg"
   },
   "outputs": [],
   "source": [
    "a = 2\n",
    "b = 3\n",
    "#dilakukan operasi a dikalikan b\n",
    "perkalian = a*b\n",
    "perkalian"
   ]
  },
  {
   "cell_type": "code",
   "execution_count": null,
   "metadata": {
    "id": "PvSr8I2N3mjg"
   },
   "outputs": [],
   "source": [
    "a = 100\n",
    "b = 2\n",
    "#dilakukan operasi a pangkat b\n",
    "pangkat = a**b\n",
    "pangkat"
   ]
  },
  {
   "cell_type": "code",
   "execution_count": null,
   "metadata": {
    "id": "9K0ctP773mjg"
   },
   "outputs": [],
   "source": [
    "a = 100\n",
    "b = 2\n",
    "#dilakukan pengecekan apakah a sama dengan b (symbol = 2kali) jika satu kali artinya pemberian nilai pada variabel\n",
    "a == b"
   ]
  },
  {
   "cell_type": "code",
   "execution_count": null,
   "metadata": {
    "id": "0AqC8WnA3mjh"
   },
   "outputs": [],
   "source": [
    "a = 100\n",
    "b = 2\n",
    "#dilakukan pengecekan apakah a lebih besar dari b\n",
    "a > b"
   ]
  },
  {
   "cell_type": "code",
   "execution_count": null,
   "metadata": {
    "id": "cmlBf6343mjh"
   },
   "outputs": [],
   "source": [
    "a = 100\n",
    "b = 120\n",
    "#dilakukan pengecekan apakah a lebih kecil sama dengan dari b\n",
    "a <= b"
   ]
  },
  {
   "cell_type": "markdown",
   "metadata": {
    "id": "nZHExwFi3mjh"
   },
   "source": [
    "#### String Operations"
   ]
  },
  {
   "cell_type": "code",
   "execution_count": null,
   "metadata": {
    "id": "HCjOSogI3mji"
   },
   "outputs": [],
   "source": [
    "nama_depan = 'Adam'\n",
    "nama_belakang = 'Ardiansyah'\n",
    "spasi = ' '\n",
    "\n",
    "nama_panjang = nama_depan + spasi + nama_belakang"
   ]
  },
  {
   "cell_type": "code",
   "execution_count": null,
   "metadata": {
    "colab": {
     "base_uri": "https://localhost:8080/"
    },
    "executionInfo": {
     "elapsed": 10,
     "status": "ok",
     "timestamp": 1668445250585,
     "user": {
      "displayName": "Stephanie Fani",
      "userId": "03013489333346707504"
     },
     "user_tz": -420
    },
    "id": "LPY7N4Hs3mji",
    "outputId": "b1c3363b-4f88-4593-b77d-41e52e018b4c"
   },
   "outputs": [
    {
     "name": "stdout",
     "output_type": "stream",
     "text": [
      "Adam Ardiansyah\n"
     ]
    }
   ],
   "source": [
    "print(nama_panjang)"
   ]
  },
  {
   "cell_type": "code",
   "execution_count": null,
   "metadata": {
    "colab": {
     "base_uri": "https://localhost:8080/",
     "height": 35
    },
    "executionInfo": {
     "elapsed": 7,
     "status": "ok",
     "timestamp": 1668445250585,
     "user": {
      "displayName": "Stephanie Fani",
      "userId": "03013489333346707504"
     },
     "user_tz": -420
    },
    "id": "0JXYtDtC3mji",
    "outputId": "454779e1-2cf6-4786-9c09-cbcf2ac04e17"
   },
   "outputs": [
    {
     "data": {
      "application/vnd.google.colaboratory.intrinsic+json": {
       "type": "string"
      },
      "text/plain": [
       "'jakarta'"
      ]
     },
     "execution_count": 5,
     "metadata": {},
     "output_type": "execute_result"
    }
   ],
   "source": [
    "huruf_besar = 'JAKARTA'\n",
    "huruf_besar.lower()"
   ]
  },
  {
   "cell_type": "code",
   "execution_count": null,
   "metadata": {
    "colab": {
     "base_uri": "https://localhost:8080/",
     "height": 35
    },
    "executionInfo": {
     "elapsed": 7,
     "status": "ok",
     "timestamp": 1668445250586,
     "user": {
      "displayName": "Stephanie Fani",
      "userId": "03013489333346707504"
     },
     "user_tz": -420
    },
    "id": "b5393vA03mji",
    "outputId": "8953ae9d-b8e8-4cf7-8194-649d0fdb7187"
   },
   "outputs": [
    {
     "data": {
      "application/vnd.google.colaboratory.intrinsic+json": {
       "type": "string"
      },
      "text/plain": [
       "'JAKARTA'"
      ]
     },
     "execution_count": 6,
     "metadata": {},
     "output_type": "execute_result"
    }
   ],
   "source": [
    "huruf_kecil = 'jakarta'\n",
    "huruf_kecil.upper()"
   ]
  },
  {
   "cell_type": "code",
   "execution_count": null,
   "metadata": {
    "colab": {
     "base_uri": "https://localhost:8080/",
     "height": 35
    },
    "executionInfo": {
     "elapsed": 6,
     "status": "ok",
     "timestamp": 1668445250586,
     "user": {
      "displayName": "Stephanie Fani",
      "userId": "03013489333346707504"
     },
     "user_tz": -420
    },
    "id": "6OOwTEae3mji",
    "outputId": "c713d675-e54c-4e0d-f708-cd5ca1504bd6"
   },
   "outputs": [
    {
     "data": {
      "application/vnd.google.colaboratory.intrinsic+json": {
       "type": "string"
      },
      "text/plain": [
       "'Ibu bersama ayah pergi ke pasar'"
      ]
     },
     "execution_count": 7,
     "metadata": {},
     "output_type": "execute_result"
    }
   ],
   "source": [
    "kalimat = 'Ibu dan ayah pergi ke pasar'\n",
    "kalimat.replace('dan', 'bersama') #merubah kata dan menjadi bersama "
   ]
  },
  {
   "cell_type": "markdown",
   "metadata": {
    "id": "CTSqa19b3mjj"
   },
   "source": [
    "#### Boolean Operations\n"
   ]
  },
  {
   "cell_type": "markdown",
   "metadata": {
    "id": "yWjZTW1e3mjj"
   },
   "source": [
    "1. and atau & \n",
    "2. or atau |\n",
    "3. not"
   ]
  },
  {
   "cell_type": "code",
   "execution_count": null,
   "metadata": {
    "id": "AwASlvf13mjj"
   },
   "outputs": [],
   "source": [
    "mei = 10000\n",
    "juni = 12000\n",
    "\n",
    "mei < juni #apakah bulan mei lebih kecil dari juni "
   ]
  },
  {
   "cell_type": "code",
   "execution_count": null,
   "metadata": {
    "id": "LXS9Dqh63mjj"
   },
   "outputs": [],
   "source": [
    "nama1 = 'Ammar'\n",
    "nama1 == 'Hasan' #apakah value nama1 sama dengan Hasan?"
   ]
  },
  {
   "cell_type": "code",
   "execution_count": null,
   "metadata": {
    "id": "UhWW8Qvx3mjj"
   },
   "outputs": [],
   "source": [
    "not (a < b)"
   ]
  },
  {
   "cell_type": "code",
   "execution_count": null,
   "metadata": {
    "id": "bc0RxlxG3mjj"
   },
   "outputs": [],
   "source": [
    "not (a > b)"
   ]
  },
  {
   "cell_type": "code",
   "execution_count": null,
   "metadata": {
    "id": "sf2L1YvG3mjj"
   },
   "outputs": [],
   "source": [
    "True and False"
   ]
  },
  {
   "cell_type": "code",
   "execution_count": null,
   "metadata": {
    "id": "lAjvS-XB3mjj"
   },
   "outputs": [],
   "source": [
    "a = 6\n",
    "b = 7\n",
    "c = 1\n",
    "\n",
    "(a < b) and (a < c) #True and False maka False"
   ]
  },
  {
   "cell_type": "code",
   "execution_count": null,
   "metadata": {
    "id": "xAhqtH2x3mjk"
   },
   "outputs": [],
   "source": [
    "(a < b) or (a < c) #True or False"
   ]
  },
  {
   "cell_type": "code",
   "execution_count": null,
   "metadata": {
    "id": "cI_hxqMD3mjk"
   },
   "outputs": [],
   "source": [
    "kategori = 'Makanan'\n",
    "jumlah_order = 67\n",
    "jumlah_visit = 102\n",
    "\n",
    "(not (kategori == 'Sepeda')) and (jumlah_visit >= 100) and (jumlah_order >= 67)"
   ]
  },
  {
   "cell_type": "markdown",
   "metadata": {
    "id": "nFtdis3TrBjn"
   },
   "source": [
    "#### List"
   ]
  },
  {
   "cell_type": "code",
   "execution_count": null,
   "metadata": {
    "id": "D_IoTFp7rFd9"
   },
   "outputs": [],
   "source": [
    "#list kosong\n",
    "list_1 = []\n",
    "\n",
    "#list integer\n",
    "list_nilai = [1,2,3,4,7]\n",
    "\n",
    "#list dengan berbagai tipe data\n",
    "list_campuran = [1, \"Surabaya\", 2.3, True]\n",
    "\n",
    "#list nama buat\n",
    "list_buah = ['Jeruk', 'Semangka','Rambutan', 'Mangga', 'Melon']"
   ]
  },
  {
   "cell_type": "code",
   "execution_count": null,
   "metadata": {
    "colab": {
     "base_uri": "https://localhost:8080/",
     "height": 35
    },
    "executionInfo": {
     "elapsed": 5,
     "status": "ok",
     "timestamp": 1668612960946,
     "user": {
      "displayName": "Stephanie Fani",
      "userId": "03013489333346707504"
     },
     "user_tz": -420
    },
    "id": "ECL9RWTFy4Rf",
    "outputId": "bf4e792a-b3aa-4795-88b4-27707c9818d0"
   },
   "outputs": [
    {
     "data": {
      "application/vnd.google.colaboratory.intrinsic+json": {
       "type": "string"
      },
      "text/plain": [
       "'Jeruk'"
      ]
     },
     "execution_count": 15,
     "metadata": {},
     "output_type": "execute_result"
    }
   ],
   "source": [
    "#mengambil 1 item\n",
    "list_buah[0]"
   ]
  },
  {
   "cell_type": "code",
   "execution_count": null,
   "metadata": {
    "colab": {
     "base_uri": "https://localhost:8080/",
     "height": 35
    },
    "executionInfo": {
     "elapsed": 5,
     "status": "ok",
     "timestamp": 1668612960947,
     "user": {
      "displayName": "Stephanie Fani",
      "userId": "03013489333346707504"
     },
     "user_tz": -420
    },
    "id": "DpJs5KfxzIli",
    "outputId": "1e8ca8ea-b4c5-4131-f7b6-6349ff186bbb"
   },
   "outputs": [
    {
     "data": {
      "application/vnd.google.colaboratory.intrinsic+json": {
       "type": "string"
      },
      "text/plain": [
       "'Mangga'"
      ]
     },
     "execution_count": 16,
     "metadata": {},
     "output_type": "execute_result"
    }
   ],
   "source": [
    "#negative index\n",
    "list_buah[-2]"
   ]
  },
  {
   "cell_type": "code",
   "execution_count": null,
   "metadata": {
    "colab": {
     "base_uri": "https://localhost:8080/"
    },
    "executionInfo": {
     "elapsed": 4,
     "status": "ok",
     "timestamp": 1668612960947,
     "user": {
      "displayName": "Stephanie Fani",
      "userId": "03013489333346707504"
     },
     "user_tz": -420
    },
    "id": "qbJOz4vpy-Vq",
    "outputId": "83a57c4f-b71a-4633-81dd-b421522d9344"
   },
   "outputs": [
    {
     "data": {
      "text/plain": [
       "['Semangka', 'Rambutan', 'Mangga']"
      ]
     },
     "execution_count": 17,
     "metadata": {},
     "output_type": "execute_result"
    }
   ],
   "source": [
    "#mengambil beberapa item (index-1 sampai index-3)\n",
    "list_buah[1:4]"
   ]
  },
  {
   "cell_type": "code",
   "execution_count": null,
   "metadata": {
    "colab": {
     "base_uri": "https://localhost:8080/"
    },
    "executionInfo": {
     "elapsed": 3,
     "status": "ok",
     "timestamp": 1668612961485,
     "user": {
      "displayName": "Stephanie Fani",
      "userId": "03013489333346707504"
     },
     "user_tz": -420
    },
    "id": "dSNoy7FIzE1L",
    "outputId": "42c80a8c-2ea3-4b16-8f4c-ef796b8a5b7d"
   },
   "outputs": [
    {
     "data": {
      "text/plain": [
       "['Jeruk', 'Semangka', 'Rambutan', 'Mangga']"
      ]
     },
     "execution_count": 18,
     "metadata": {},
     "output_type": "execute_result"
    }
   ],
   "source": [
    "#mengambil dari awal hingga index tertentu (hingga index-3)\n",
    "list_buah[:4]"
   ]
  },
  {
   "cell_type": "code",
   "execution_count": null,
   "metadata": {
    "colab": {
     "base_uri": "https://localhost:8080/"
    },
    "executionInfo": {
     "elapsed": 3,
     "status": "ok",
     "timestamp": 1668612961486,
     "user": {
      "displayName": "Stephanie Fani",
      "userId": "03013489333346707504"
     },
     "user_tz": -420
    },
    "id": "_oi7G9kQzbM1",
    "outputId": "7a7f2a85-3e12-4977-b9d8-235ddea8d5b7"
   },
   "outputs": [
    {
     "data": {
      "text/plain": [
       "['Rambutan', 'Mangga', 'Melon']"
      ]
     },
     "execution_count": 19,
     "metadata": {},
     "output_type": "execute_result"
    }
   ],
   "source": [
    "#mengambil dari index tertentu (index-2) hingga akhir\n",
    "list_buah[2:]"
   ]
  },
  {
   "cell_type": "code",
   "execution_count": null,
   "metadata": {
    "colab": {
     "base_uri": "https://localhost:8080/"
    },
    "executionInfo": {
     "elapsed": 2,
     "status": "ok",
     "timestamp": 1668612962103,
     "user": {
      "displayName": "Stephanie Fani",
      "userId": "03013489333346707504"
     },
     "user_tz": -420
    },
    "id": "AvV-8y7QzjeC",
    "outputId": "c9253088-3ece-44c0-b474-0251380376d2"
   },
   "outputs": [
    {
     "data": {
      "text/plain": [
       "5"
      ]
     },
     "execution_count": 20,
     "metadata": {},
     "output_type": "execute_result"
    }
   ],
   "source": [
    "#mencari banyak item pada list\n",
    "len(list_buah)"
   ]
  },
  {
   "cell_type": "code",
   "execution_count": null,
   "metadata": {
    "colab": {
     "base_uri": "https://localhost:8080/"
    },
    "executionInfo": {
     "elapsed": 2,
     "status": "ok",
     "timestamp": 1668612963501,
     "user": {
      "displayName": "Stephanie Fani",
      "userId": "03013489333346707504"
     },
     "user_tz": -420
    },
    "id": "FuAWiGNUzrjx",
    "outputId": "fae992f1-3861-4ec8-eca0-121d2e6b1c2d"
   },
   "outputs": [
    {
     "data": {
      "text/plain": [
       "['Jeruk', 'Semangka', 'Rambutan', 'Mangga', 'Melon', 'Apel']"
      ]
     },
     "execution_count": 21,
     "metadata": {},
     "output_type": "execute_result"
    }
   ],
   "source": [
    "#menambahkan item pada list\n",
    "\n",
    "list_buah.append(\"Apel\")\n",
    "list_buah"
   ]
  },
  {
   "cell_type": "code",
   "execution_count": null,
   "metadata": {
    "colab": {
     "base_uri": "https://localhost:8080/"
    },
    "executionInfo": {
     "elapsed": 2,
     "status": "ok",
     "timestamp": 1668612965744,
     "user": {
      "displayName": "Stephanie Fani",
      "userId": "03013489333346707504"
     },
     "user_tz": -420
    },
    "id": "vkuXFb7eFQjE",
    "outputId": "97830ced-ef73-4599-9eb5-2a25ad902c07"
   },
   "outputs": [
    {
     "data": {
      "text/plain": [
       "['Jeruk', 'Semangka', 'Rambutan', 'Apel', 'Mangga', 'Melon', 'Apel']"
      ]
     },
     "execution_count": 22,
     "metadata": {},
     "output_type": "execute_result"
    }
   ],
   "source": [
    "list_buah.insert(3, \"Apel\")\n",
    "list_buah"
   ]
  },
  {
   "cell_type": "code",
   "execution_count": null,
   "metadata": {
    "id": "An6Ax_F2z-Yc"
   },
   "outputs": [],
   "source": [
    "#menghapus item pada list\n",
    "\n",
    "list_buah.remove(\"Semangka\")\n",
    "list_buah"
   ]
  },
  {
   "cell_type": "markdown",
   "metadata": {
    "id": "IfjabSRSDkGA"
   },
   "source": [
    "#### Nested List"
   ]
  },
  {
   "cell_type": "code",
   "execution_count": null,
   "metadata": {
    "id": "68w938CiDmAP"
   },
   "outputs": [],
   "source": [
    "#nested list\n",
    "list_nama = [\n",
    "    [\"Bob\", \"Anna\", \"John\"],\n",
    "    [\"Andy\", \"Eve\", \"Elie\"],\n",
    "    [\"Josh\", \"Ellen\", \"David\"]\n",
    "]"
   ]
  },
  {
   "cell_type": "code",
   "execution_count": null,
   "metadata": {
    "colab": {
     "base_uri": "https://localhost:8080/"
    },
    "executionInfo": {
     "elapsed": 2,
     "status": "ok",
     "timestamp": 1668612734359,
     "user": {
      "displayName": "Stephanie Fani",
      "userId": "03013489333346707504"
     },
     "user_tz": -420
    },
    "id": "hYesvWekEFlU",
    "outputId": "8eb4b9d9-a61c-4047-cd0e-c12c477e113b"
   },
   "outputs": [
    {
     "name": "stdout",
     "output_type": "stream",
     "text": [
      "['Bob', 'Anna', 'John']\n",
      "Bob\n",
      "Anna\n"
     ]
    }
   ],
   "source": [
    "#mengambil item\n",
    "print(list_nama[0])\n",
    "print(list_nama[0][0])\n",
    "print(list_nama[0][1])"
   ]
  },
  {
   "cell_type": "code",
   "execution_count": null,
   "metadata": {
    "colab": {
     "base_uri": "https://localhost:8080/"
    },
    "executionInfo": {
     "elapsed": 2,
     "status": "ok",
     "timestamp": 1668612802681,
     "user": {
      "displayName": "Stephanie Fani",
      "userId": "03013489333346707504"
     },
     "user_tz": -420
    },
    "id": "-_V-okAPEMDw",
    "outputId": "2e437d15-5968-4f33-f5e5-ed9f26e4e00d"
   },
   "outputs": [
    {
     "name": "stdout",
     "output_type": "stream",
     "text": [
      "['Bob', 'Anna', 'John']\n",
      "['Andy', 'Eve', 'Elie']\n"
     ]
    }
   ],
   "source": [
    "#mengambil beberapa item\n",
    "print(list_nama[0])\n",
    "print(list_nama[1])"
   ]
  },
  {
   "cell_type": "code",
   "execution_count": null,
   "metadata": {
    "colab": {
     "base_uri": "https://localhost:8080/"
    },
    "executionInfo": {
     "elapsed": 2,
     "status": "ok",
     "timestamp": 1668612820099,
     "user": {
      "displayName": "Stephanie Fani",
      "userId": "03013489333346707504"
     },
     "user_tz": -420
    },
    "id": "xG-M1r-pEm_T",
    "outputId": "b797e4ae-27c3-4d9f-995b-4fdd100a296d"
   },
   "outputs": [
    {
     "name": "stdout",
     "output_type": "stream",
     "text": [
      "['Eve', 'Elie']\n"
     ]
    }
   ],
   "source": [
    "print(list_nama[1][1:])"
   ]
  },
  {
   "cell_type": "code",
   "execution_count": null,
   "metadata": {
    "colab": {
     "base_uri": "https://localhost:8080/"
    },
    "executionInfo": {
     "elapsed": 2,
     "status": "ok",
     "timestamp": 1668612934794,
     "user": {
      "displayName": "Stephanie Fani",
      "userId": "03013489333346707504"
     },
     "user_tz": -420
    },
    "id": "YXfewvyAE0wc",
    "outputId": "28367573-9334-42b5-b01d-7755e354c34b"
   },
   "outputs": [
    {
     "data": {
      "text/plain": [
       "[['Bob', 'Anna', 'John'],\n",
       " ['Andy', 'Eve', 'Elie'],\n",
       " ['Josh', 'Ellen', 'David'],\n",
       " 'Tom',\n",
       " 'Tom']"
      ]
     },
     "execution_count": 13,
     "metadata": {},
     "output_type": "execute_result"
    }
   ],
   "source": [
    "#menambahkan item pada list luar\n",
    "\n",
    "list_nama.append(\"Tom\")\n",
    "list_nama"
   ]
  },
  {
   "cell_type": "code",
   "execution_count": null,
   "metadata": {
    "id": "m3-b2rMKFK22"
   },
   "outputs": [],
   "source": [
    "#menambahkan item pada list dalam\n",
    "\n",
    "list_nama[0].append(\"Tom\")\n",
    "list_nama"
   ]
  },
  {
   "cell_type": "code",
   "execution_count": null,
   "metadata": {
    "id": "F9Uw1F4PfnDe"
   },
   "outputs": [],
   "source": [
    "#menghapus item pada list luar\n",
    "\n",
    "list_nama.remove(\"Tom\")\n",
    "list_nama"
   ]
  },
  {
   "cell_type": "code",
   "execution_count": null,
   "metadata": {
    "id": "SJOLfUKcfstQ"
   },
   "outputs": [],
   "source": [
    "#menghapus item pada list dalam\n",
    "\n",
    "list_nama[0].remove(\"Bob\")\n",
    "list_nama"
   ]
  },
  {
   "cell_type": "markdown",
   "metadata": {
    "id": "O28EtOX3ifzW"
   },
   "source": [
    "#### Dictionary"
   ]
  },
  {
   "cell_type": "code",
   "execution_count": null,
   "metadata": {
    "colab": {
     "base_uri": "https://localhost:8080/"
    },
    "executionInfo": {
     "elapsed": 1,
     "status": "ok",
     "timestamp": 1668679748568,
     "user": {
      "displayName": "Stephanie Fani",
      "userId": "03013489333346707504"
     },
     "user_tz": -420
    },
    "id": "yxNGKxJ5D0uv",
    "outputId": "35a28d6b-601b-465f-ad4f-d701ff4ebe1f"
   },
   "outputs": [
    {
     "data": {
      "text/plain": [
       "{'nama': 'Bob', 'umur': 30, 'tempat_tinggal': 'Bandung'}"
      ]
     },
     "execution_count": 3,
     "metadata": {},
     "output_type": "execute_result"
    }
   ],
   "source": [
    "profile_user = {\n",
    "    'nama': 'Bob',\n",
    "    'umur': 30,\n",
    "    'tempat_tinggal': 'Bandung'\n",
    "}\n",
    "profile_user"
   ]
  },
  {
   "cell_type": "code",
   "execution_count": null,
   "metadata": {
    "colab": {
     "base_uri": "https://localhost:8080/"
    },
    "executionInfo": {
     "elapsed": 3,
     "status": "ok",
     "timestamp": 1668679693559,
     "user": {
      "displayName": "Stephanie Fani",
      "userId": "03013489333346707504"
     },
     "user_tz": -420
    },
    "id": "vXonhpQ7iha5",
    "outputId": "86ea2697-44d9-457b-9638-5a6b80879005"
   },
   "outputs": [
    {
     "data": {
      "text/plain": [
       "{'nama': ['Bob', 'Tom', 'Andy'],\n",
       " 'umur': [30, 22, 26],\n",
       " 'tempat_tinggal': ['Bandung', 'Jakarta', 'Bogor']}"
      ]
     },
     "execution_count": 1,
     "metadata": {},
     "output_type": "execute_result"
    }
   ],
   "source": [
    "profile = { \n",
    "    'nama': ['Bob','Tom', 'Andy'] , \n",
    "    'umur': [30 , 22 , 26],\n",
    "    'tempat_tinggal': ['Bandung', 'Jakarta', 'Bogor']}\n",
    "profile"
   ]
  },
  {
   "cell_type": "code",
   "execution_count": null,
   "metadata": {
    "colab": {
     "base_uri": "https://localhost:8080/"
    },
    "executionInfo": {
     "elapsed": 2,
     "status": "ok",
     "timestamp": 1668679824526,
     "user": {
      "displayName": "Stephanie Fani",
      "userId": "03013489333346707504"
     },
     "user_tz": -420
    },
    "id": "eAH9avdLDyv4",
    "outputId": "0366e803-bbed-40e6-ea73-b9bb7d58f8d7"
   },
   "outputs": [
    {
     "data": {
      "text/plain": [
       "dict_keys(['nama', 'umur', 'tempat_tinggal'])"
      ]
     },
     "execution_count": 5,
     "metadata": {},
     "output_type": "execute_result"
    }
   ],
   "source": [
    "#mengambil nama keys dalam dictionary\n",
    "dict.keys(profile)"
   ]
  },
  {
   "cell_type": "code",
   "execution_count": null,
   "metadata": {
    "colab": {
     "base_uri": "https://localhost:8080/"
    },
    "executionInfo": {
     "elapsed": 2,
     "status": "ok",
     "timestamp": 1668679842527,
     "user": {
      "displayName": "Stephanie Fani",
      "userId": "03013489333346707504"
     },
     "user_tz": -420
    },
    "id": "g0wu6-QIEUoQ",
    "outputId": "bd37df32-4e14-4922-90f1-097cfb9b77f7"
   },
   "outputs": [
    {
     "data": {
      "text/plain": [
       "['Bob', 'Tom', 'Andy']"
      ]
     },
     "execution_count": 6,
     "metadata": {},
     "output_type": "execute_result"
    }
   ],
   "source": [
    "#mengambil list dari dictionary\n",
    "profile['nama']"
   ]
  },
  {
   "cell_type": "code",
   "execution_count": null,
   "metadata": {
    "colab": {
     "base_uri": "https://localhost:8080/",
     "height": 35
    },
    "executionInfo": {
     "elapsed": 4,
     "status": "ok",
     "timestamp": 1668679867785,
     "user": {
      "displayName": "Stephanie Fani",
      "userId": "03013489333346707504"
     },
     "user_tz": -420
    },
    "id": "THc7ks-1EbWz",
    "outputId": "6e5c0530-5fda-4f44-caa1-bdf10fb81a9a"
   },
   "outputs": [
    {
     "data": {
      "application/vnd.google.colaboratory.intrinsic+json": {
       "type": "string"
      },
      "text/plain": [
       "'Bob'"
      ]
     },
     "execution_count": 7,
     "metadata": {},
     "output_type": "execute_result"
    }
   ],
   "source": [
    "#mengambil item dari dictionary\n",
    "profile['nama'][0]"
   ]
  },
  {
   "cell_type": "code",
   "execution_count": null,
   "metadata": {
    "colab": {
     "base_uri": "https://localhost:8080/"
    },
    "executionInfo": {
     "elapsed": 429,
     "status": "ok",
     "timestamp": 1668679880574,
     "user": {
      "displayName": "Stephanie Fani",
      "userId": "03013489333346707504"
     },
     "user_tz": -420
    },
    "id": "DQWwrmLtEhhg",
    "outputId": "9e845c84-a677-4a37-d2c9-1380ef4e9c39"
   },
   "outputs": [
    {
     "data": {
      "text/plain": [
       "22"
      ]
     },
     "execution_count": 8,
     "metadata": {},
     "output_type": "execute_result"
    }
   ],
   "source": [
    "profile['umur'][1]"
   ]
  },
  {
   "cell_type": "code",
   "execution_count": null,
   "metadata": {
    "colab": {
     "base_uri": "https://localhost:8080/"
    },
    "executionInfo": {
     "elapsed": 2,
     "status": "ok",
     "timestamp": 1668680402560,
     "user": {
      "displayName": "Stephanie Fani",
      "userId": "03013489333346707504"
     },
     "user_tz": -420
    },
    "id": "sSNQrUoSEknm",
    "outputId": "e95595af-5ae1-4ca0-b73c-686a74d1d03b"
   },
   "outputs": [
    {
     "data": {
      "text/plain": [
       "{'nama': ['Bob', 'Tom', 'Andy'],\n",
       " 'umur': [30, 22, 26],\n",
       " 'tempat_tinggal': ['Bandung', 'Jakarta', 'Bogor'],\n",
       " 'id': ['C1', 'C2', 'C3']}"
      ]
     },
     "execution_count": 10,
     "metadata": {},
     "output_type": "execute_result"
    }
   ],
   "source": [
    "#menambah key dan value pada dictionary\n",
    "profile.update({'id':['C1','C2','C3']})\n",
    "profile"
   ]
  },
  {
   "cell_type": "code",
   "execution_count": null,
   "metadata": {
    "id": "g4cgkcRbGhqx"
   },
   "outputs": [],
   "source": [
    "#menghapus key dan value pada dictionary\n",
    "del profile['id']\n",
    "profile"
   ]
  },
  {
   "cell_type": "markdown",
   "metadata": {
    "id": "AXK9M3N4CtyZ"
   },
   "source": [
    "#### If Else"
   ]
  },
  {
   "cell_type": "code",
   "execution_count": null,
   "metadata": {
    "colab": {
     "base_uri": "https://localhost:8080/"
    },
    "executionInfo": {
     "elapsed": 14,
     "status": "ok",
     "timestamp": 1668830503140,
     "user": {
      "displayName": "Stephanie Fani",
      "userId": "03013489333346707504"
     },
     "user_tz": -420
    },
    "id": "tR2tRLp3CxWo",
    "outputId": "9b3098d8-c21c-4007-8bcb-05336906aa0c"
   },
   "outputs": [
    {
     "name": "stdout",
     "output_type": "stream",
     "text": [
      "bilangan positif\n"
     ]
    }
   ],
   "source": [
    "i = 3\n",
    "if i>0:\n",
    "  print(\"bilangan positif\")\n",
    "else:\n",
    "  print(\"bukan bilangan positif\")"
   ]
  },
  {
   "cell_type": "code",
   "execution_count": null,
   "metadata": {
    "colab": {
     "base_uri": "https://localhost:8080/"
    },
    "executionInfo": {
     "elapsed": 3,
     "status": "ok",
     "timestamp": 1668830548467,
     "user": {
      "displayName": "Stephanie Fani",
      "userId": "03013489333346707504"
     },
     "user_tz": -420
    },
    "id": "sAewRDGMDFj-",
    "outputId": "e9e8db26-a8b6-4499-a92d-c09dce427537"
   },
   "outputs": [
    {
     "name": "stdout",
     "output_type": "stream",
     "text": [
      "bilangan negatif\n"
     ]
    }
   ],
   "source": [
    "i = -3\n",
    "if i>0:\n",
    "  print(\"bilangan positif\")\n",
    "elif i==0:\n",
    "  print(\"bilangan nol\")\n",
    "else:\n",
    "  print(\"bilangan negatif\")"
   ]
  },
  {
   "cell_type": "code",
   "execution_count": null,
   "metadata": {
    "colab": {
     "base_uri": "https://localhost:8080/"
    },
    "executionInfo": {
     "elapsed": 3,
     "status": "ok",
     "timestamp": 1668832251051,
     "user": {
      "displayName": "Stephanie Fani",
      "userId": "03013489333346707504"
     },
     "user_tz": -420
    },
    "id": "5XI_CXKrDTgF",
    "outputId": "1349ba4a-76f8-48ee-bf84-6ed0a28151ba"
   },
   "outputs": [
    {
     "name": "stdout",
     "output_type": "stream",
     "text": [
      "4\n",
      "3\n"
     ]
    }
   ],
   "source": [
    "i = 3\n",
    "if i>0:\n",
    "  j = i\n",
    "  i = i + 1\n",
    "  print(i)\n",
    "  print(j)\n",
    "else:\n",
    "  i = 0\n",
    "  j = 0\n",
    "  print(i)\n",
    "  print(j)"
   ]
  },
  {
   "cell_type": "markdown",
   "metadata": {
    "id": "LSEoRN-6J2bw"
   },
   "source": [
    "#### Iterations"
   ]
  },
  {
   "cell_type": "markdown",
   "metadata": {
    "id": "ulz58AeGJ54D"
   },
   "source": [
    "##### For Loops"
   ]
  },
  {
   "cell_type": "code",
   "execution_count": null,
   "metadata": {
    "colab": {
     "base_uri": "https://localhost:8080/"
    },
    "executionInfo": {
     "elapsed": 5,
     "status": "ok",
     "timestamp": 1668832320958,
     "user": {
      "displayName": "Stephanie Fani",
      "userId": "03013489333346707504"
     },
     "user_tz": -420
    },
    "id": "kKIk80ycJwaa",
    "outputId": "c47a68b0-0f1b-4229-f0ac-89efd5f9b7df"
   },
   "outputs": [
    {
     "name": "stdout",
     "output_type": "stream",
     "text": [
      "foo\n",
      "bar\n",
      "baz\n"
     ]
    }
   ],
   "source": [
    "a = ['foo', 'bar', 'baz']\n",
    "for i in a:\n",
    "  print(i)"
   ]
  },
  {
   "cell_type": "code",
   "execution_count": null,
   "metadata": {
    "colab": {
     "base_uri": "https://localhost:8080/"
    },
    "executionInfo": {
     "elapsed": 4,
     "status": "ok",
     "timestamp": 1668832436807,
     "user": {
      "displayName": "Stephanie Fani",
      "userId": "03013489333346707504"
     },
     "user_tz": -420
    },
    "id": "FH8uoKAqKFjd",
    "outputId": "9069a39e-baa3-4ca2-df95-ee3d706c1c91"
   },
   "outputs": [
    {
     "name": "stdout",
     "output_type": "stream",
     "text": [
      "iterasi ke - 0\n",
      "iterasi ke - 1\n",
      "iterasi ke - 2\n",
      "iterasi ke - 3\n",
      "iterasi ke - 4\n",
      "iterasi ke - 5\n",
      "iterasi ke - 6\n",
      "iterasi ke - 7\n",
      "iterasi ke - 8\n",
      "iterasi ke - 9\n"
     ]
    }
   ],
   "source": [
    "for i in range(10):\n",
    "  print(\"iterasi ke -\", i)"
   ]
  },
  {
   "cell_type": "markdown",
   "metadata": {
    "id": "3fAy6VmXKo8_"
   },
   "source": [
    "##### While Loops"
   ]
  },
  {
   "cell_type": "code",
   "execution_count": null,
   "metadata": {
    "colab": {
     "base_uri": "https://localhost:8080/"
    },
    "executionInfo": {
     "elapsed": 465,
     "status": "ok",
     "timestamp": 1668832638045,
     "user": {
      "displayName": "Stephanie Fani",
      "userId": "03013489333346707504"
     },
     "user_tz": -420
    },
    "id": "V4Pw1DLAKStf",
    "outputId": "832785d2-9e5c-4585-e0c4-c7d868168d8d"
   },
   "outputs": [
    {
     "name": "stdout",
     "output_type": "stream",
     "text": [
      "0\n",
      "1\n",
      "2\n",
      "3\n",
      "4\n",
      "5\n"
     ]
    }
   ],
   "source": [
    "i = 0\n",
    "while i < 6:\n",
    "  print(i)\n",
    "  i = i + 1"
   ]
  },
  {
   "cell_type": "code",
   "execution_count": null,
   "metadata": {
    "colab": {
     "base_uri": "https://localhost:8080/"
    },
    "executionInfo": {
     "elapsed": 8,
     "status": "ok",
     "timestamp": 1668832639031,
     "user": {
      "displayName": "Stephanie Fani",
      "userId": "03013489333346707504"
     },
     "user_tz": -420
    },
    "id": "K7D-LjIyKxCr",
    "outputId": "ee88dda9-ea4c-4698-9c3f-c54644ec0474"
   },
   "outputs": [
    {
     "name": "stdout",
     "output_type": "stream",
     "text": [
      "0\n",
      "1\n",
      "2\n",
      "3\n",
      "4\n",
      "5\n",
      "i >= 6\n"
     ]
    }
   ],
   "source": [
    "i = 0\n",
    "while i < 6:\n",
    "  print(i)\n",
    "  i = i + 1\n",
    "else:\n",
    "  print(\"i >= 6\")"
   ]
  },
  {
   "cell_type": "markdown",
   "metadata": {
    "id": "x0LtcMekK9wh"
   },
   "source": [
    "##### Break Statement"
   ]
  },
  {
   "cell_type": "code",
   "execution_count": null,
   "metadata": {
    "colab": {
     "base_uri": "https://localhost:8080/"
    },
    "executionInfo": {
     "elapsed": 686,
     "status": "ok",
     "timestamp": 1668832643117,
     "user": {
      "displayName": "Stephanie Fani",
      "userId": "03013489333346707504"
     },
     "user_tz": -420
    },
    "id": "gaR8UmO6K4Jk",
    "outputId": "364b89f2-bd72-4d7f-9d11-1938f0810374"
   },
   "outputs": [
    {
     "name": "stdout",
     "output_type": "stream",
     "text": [
      "0\n",
      "1\n",
      "2\n",
      "3\n"
     ]
    }
   ],
   "source": [
    "for i in range(5):\n",
    "  print(i)\n",
    "  if i == 3:\n",
    "    break"
   ]
  },
  {
   "cell_type": "code",
   "execution_count": null,
   "metadata": {
    "colab": {
     "base_uri": "https://localhost:8080/"
    },
    "executionInfo": {
     "elapsed": 5,
     "status": "ok",
     "timestamp": 1668832643117,
     "user": {
      "displayName": "Stephanie Fani",
      "userId": "03013489333346707504"
     },
     "user_tz": -420
    },
    "id": "-iAQe1YfLGWq",
    "outputId": "1b418272-5e81-4204-f900-4b234fe1230b"
   },
   "outputs": [
    {
     "name": "stdout",
     "output_type": "stream",
     "text": [
      "0\n",
      "1\n",
      "2\n",
      "3\n"
     ]
    }
   ],
   "source": [
    "i = 0\n",
    "while i < 6:\n",
    "  print(i)\n",
    "  if i == 3:\n",
    "    break\n",
    "  i += 1"
   ]
  },
  {
   "cell_type": "markdown",
   "metadata": {
    "id": "WyY0tME6LVbS"
   },
   "source": [
    "##### Continue Statement"
   ]
  },
  {
   "cell_type": "code",
   "execution_count": null,
   "metadata": {
    "colab": {
     "base_uri": "https://localhost:8080/"
    },
    "executionInfo": {
     "elapsed": 3,
     "status": "ok",
     "timestamp": 1668832792229,
     "user": {
      "displayName": "Stephanie Fani",
      "userId": "03013489333346707504"
     },
     "user_tz": -420
    },
    "id": "ccgKKkE9LzhJ",
    "outputId": "9ce865b2-d688-4b09-84b9-c3de189e2f1d"
   },
   "outputs": [
    {
     "name": "stdout",
     "output_type": "stream",
     "text": [
      "0\n",
      "1\n",
      "2\n",
      "4\n"
     ]
    }
   ],
   "source": [
    "for i in range(5):\n",
    "  if i == 3:\n",
    "    continue\n",
    "  print(i)"
   ]
  },
  {
   "cell_type": "code",
   "execution_count": null,
   "metadata": {
    "colab": {
     "base_uri": "https://localhost:8080/"
    },
    "executionInfo": {
     "elapsed": 3,
     "status": "ok",
     "timestamp": 1668832798200,
     "user": {
      "displayName": "Stephanie Fani",
      "userId": "03013489333346707504"
     },
     "user_tz": -420
    },
    "id": "hfKJxYkwLOWg",
    "outputId": "c07f6368-5283-48da-f6c5-92f40d23be6c"
   },
   "outputs": [
    {
     "name": "stdout",
     "output_type": "stream",
     "text": [
      "1\n",
      "2\n",
      "4\n",
      "5\n",
      "6\n"
     ]
    }
   ],
   "source": [
    "i = 0\n",
    "while i < 6:\n",
    "  i += 1\n",
    "  if i == 3:\n",
    "    continue\n",
    "  print(i)"
   ]
  },
  {
   "cell_type": "markdown",
   "metadata": {
    "id": "hNoxwpHVMGf1"
   },
   "source": [
    "#### User Defined Function"
   ]
  },
  {
   "cell_type": "code",
   "execution_count": null,
   "metadata": {
    "id": "s2E4yi22L5qT"
   },
   "outputs": [],
   "source": [
    "def sum_the_numbers (num1, num2):\n",
    "  total = num1 + num2\n",
    "  return total"
   ]
  },
  {
   "cell_type": "code",
   "execution_count": null,
   "metadata": {
    "colab": {
     "base_uri": "https://localhost:8080/"
    },
    "executionInfo": {
     "elapsed": 4,
     "status": "ok",
     "timestamp": 1668832926266,
     "user": {
      "displayName": "Stephanie Fani",
      "userId": "03013489333346707504"
     },
     "user_tz": -420
    },
    "id": "_vJUlMDUMSeO",
    "outputId": "b5ecd5fd-ba34-42a3-8b0e-556d9d0ac7ef"
   },
   "outputs": [
    {
     "data": {
      "text/plain": [
       "7"
      ]
     },
     "execution_count": 24,
     "metadata": {},
     "output_type": "execute_result"
    }
   ],
   "source": [
    "sum_the_numbers(3,4)"
   ]
  },
  {
   "cell_type": "code",
   "execution_count": null,
   "metadata": {
    "colab": {
     "base_uri": "https://localhost:8080/"
    },
    "executionInfo": {
     "elapsed": 4,
     "status": "ok",
     "timestamp": 1668832939305,
     "user": {
      "displayName": "Stephanie Fani",
      "userId": "03013489333346707504"
     },
     "user_tz": -420
    },
    "id": "QSpHwmU9MZHe",
    "outputId": "111daa71-a8d9-4220-aaaa-5751f5041bbe"
   },
   "outputs": [
    {
     "name": "stdout",
     "output_type": "stream",
     "text": [
      "7\n"
     ]
    }
   ],
   "source": [
    "a = sum_the_numbers(3,4)\n",
    "print(a)"
   ]
  },
  {
   "cell_type": "code",
   "execution_count": null,
   "metadata": {
    "colab": {
     "base_uri": "https://localhost:8080/",
     "height": 169
    },
    "executionInfo": {
     "elapsed": 6,
     "status": "error",
     "timestamp": 1668832960877,
     "user": {
      "displayName": "Stephanie Fani",
      "userId": "03013489333346707504"
     },
     "user_tz": -420
    },
    "id": "-lgH2sPHMcgv",
    "outputId": "b46d4579-8e09-4872-f82b-3ae34c6892de"
   },
   "outputs": [
    {
     "ename": "TypeError",
     "evalue": "ignored",
     "output_type": "error",
     "traceback": [
      "\u001b[0;31m---------------------------------------------------------------------------\u001b[0m",
      "\u001b[0;31mTypeError\u001b[0m                                 Traceback (most recent call last)",
      "\u001b[0;32m<ipython-input-26-3b4839b7db54>\u001b[0m in \u001b[0;36m<module>\u001b[0;34m\u001b[0m\n\u001b[0;32m----> 1\u001b[0;31m \u001b[0msum_the_numbers\u001b[0m\u001b[0;34m(\u001b[0m\u001b[0;34m)\u001b[0m\u001b[0;34m\u001b[0m\u001b[0;34m\u001b[0m\u001b[0m\n\u001b[0m",
      "\u001b[0;31mTypeError\u001b[0m: sum_the_numbers() missing 2 required positional arguments: 'num1' and 'num2'"
     ]
    }
   ],
   "source": [
    "sum_the_numbers()"
   ]
  },
  {
   "cell_type": "code",
   "execution_count": null,
   "metadata": {
    "id": "7AlVMCaTMhyb"
   },
   "outputs": [],
   "source": [
    "#setting parameters' default\n",
    "def sum_the_numbers (num1 = 0, num2 = 0):\n",
    "  total = num1 + num2\n",
    "  return total"
   ]
  },
  {
   "cell_type": "code",
   "execution_count": null,
   "metadata": {
    "colab": {
     "base_uri": "https://localhost:8080/"
    },
    "executionInfo": {
     "elapsed": 4,
     "status": "ok",
     "timestamp": 1668833007525,
     "user": {
      "displayName": "Stephanie Fani",
      "userId": "03013489333346707504"
     },
     "user_tz": -420
    },
    "id": "HQsrHClGMpsf",
    "outputId": "d422fe3a-63d9-41b5-b16b-6c7a9373cea4"
   },
   "outputs": [
    {
     "data": {
      "text/plain": [
       "3"
      ]
     },
     "execution_count": 30,
     "metadata": {},
     "output_type": "execute_result"
    }
   ],
   "source": [
    "sum_the_numbers(3,)"
   ]
  },
  {
   "cell_type": "code",
   "execution_count": null,
   "metadata": {
    "colab": {
     "base_uri": "https://localhost:8080/"
    },
    "executionInfo": {
     "elapsed": 3,
     "status": "ok",
     "timestamp": 1668833005094,
     "user": {
      "displayName": "Stephanie Fani",
      "userId": "03013489333346707504"
     },
     "user_tz": -420
    },
    "id": "hESizFnYMrKD",
    "outputId": "a9f7735b-6030-4242-fddf-61a7d6eeffed"
   },
   "outputs": [
    {
     "data": {
      "text/plain": [
       "0"
      ]
     },
     "execution_count": 29,
     "metadata": {},
     "output_type": "execute_result"
    }
   ],
   "source": [
    "sum_the_numbers()"
   ]
  },
  {
   "cell_type": "code",
   "execution_count": null,
   "metadata": {
    "id": "xSMnd4hcMskz"
   },
   "outputs": [],
   "source": []
  }
 ],
 "metadata": {
  "colab": {
   "collapsed_sections": [
    "nZHExwFi3mjh",
    "CTSqa19b3mjj",
    "nFtdis3TrBjn",
    "IfjabSRSDkGA"
   ],
   "provenance": []
  },
  "kernelspec": {
   "display_name": "Python 3 (ipykernel)",
   "language": "python",
   "name": "python3"
  },
  "language_info": {
   "codemirror_mode": {
    "name": "ipython",
    "version": 3
   },
   "file_extension": ".py",
   "mimetype": "text/x-python",
   "name": "python",
   "nbconvert_exporter": "python",
   "pygments_lexer": "ipython3",
   "version": "3.11.1"
  }
 },
 "nbformat": 4,
 "nbformat_minor": 1
}
