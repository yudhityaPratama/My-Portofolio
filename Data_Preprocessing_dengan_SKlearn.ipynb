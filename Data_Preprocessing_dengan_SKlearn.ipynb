{
 "cells": [
  {
   "cell_type": "markdown",
   "id": "6bef19f5",
   "metadata": {
    "id": "6bef19f5"
   },
   "source": [
    "# Data Preprocessing dengan SKlearn"
   ]
  },
  {
   "cell_type": "markdown",
   "id": "aef15bdd",
   "metadata": {
    "id": "aef15bdd"
   },
   "source": [
    "## Sample Data"
   ]
  },
  {
   "cell_type": "code",
   "execution_count": null,
   "id": "a77acf1f",
   "metadata": {
    "id": "a77acf1f"
   },
   "outputs": [],
   "source": [
    "import numpy as np\n",
    "from sklearn import preprocessing"
   ]
  },
  {
   "cell_type": "code",
   "execution_count": null,
   "id": "a81fd3e5",
   "metadata": {
    "colab": {
     "base_uri": "https://localhost:8080/"
    },
    "id": "a81fd3e5",
    "outputId": "73c15729-c222-49c6-c588-bc14e6da2545"
   },
   "outputs": [
    {
     "name": "stdout",
     "output_type": "stream",
     "text": [
      "[[ 2.1 -1.9  5.5]\n",
      " [-1.5  2.4  3.5]\n",
      " [ 0.5 -7.9  5.6]\n",
      " [ 5.9  2.3 -5.8]]\n"
     ]
    }
   ],
   "source": [
    "sample_data = np.array([\n",
    "    [2.1, -1.9, 5.5],\n",
    "    [-1.5, 2.4, 3.5],\n",
    "    [0.5, -7.9, 5.6],\n",
    "    [5.9, 2.3, -5.8]\n",
    "])\n",
    "\n",
    "print(sample_data)"
   ]
  },
  {
   "cell_type": "code",
   "execution_count": null,
   "id": "PWq3Yudepet6",
   "metadata": {
    "colab": {
     "base_uri": "https://localhost:8080/"
    },
    "id": "PWq3Yudepet6",
    "outputId": "b736d707-f1b3-429e-91d3-d3eb7a6d0104"
   },
   "outputs": [
    {
     "name": "stdout",
     "output_type": "stream",
     "text": [
      "Ukuran: (4, 3)\n"
     ]
    }
   ],
   "source": [
    "print(f\"Ukuran: {sample_data.shape}\")"
   ]
  },
  {
   "cell_type": "markdown",
   "id": "6b52c62e",
   "metadata": {
    "id": "6b52c62e"
   },
   "source": [
    "## Binarisation\n",
    "\n",
    "- Digunakan untuk mengubah bilangan integer / float menjadi biner.\n",
    "- Nilai 0 dan 1 ditentukan dari threshold yang dibuat."
   ]
  },
  {
   "cell_type": "code",
   "execution_count": null,
   "id": "YAcCagY435YV",
   "metadata": {
    "colab": {
     "base_uri": "https://localhost:8080/"
    },
    "id": "YAcCagY435YV",
    "outputId": "5d8c3d95-1203-41b7-eee9-a39cce93fe33"
   },
   "outputs": [
    {
     "data": {
      "text/plain": [
       "array([[ 2.1, -1.9,  5.5],\n",
       "       [-1.5,  2.4,  3.5],\n",
       "       [ 0.5, -7.9,  5.6],\n",
       "       [ 5.9,  2.3, -5.8]])"
      ]
     },
     "execution_count": 9,
     "metadata": {},
     "output_type": "execute_result"
    }
   ],
   "source": [
    "sample_data"
   ]
  },
  {
   "cell_type": "code",
   "execution_count": null,
   "id": "22dacf50",
   "metadata": {
    "colab": {
     "base_uri": "https://localhost:8080/"
    },
    "id": "22dacf50",
    "outputId": "915cb91c-3a36-4925-9b51-e38c9b176d24"
   },
   "outputs": [
    {
     "data": {
      "text/plain": [
       "array([[1., 0., 1.],\n",
       "       [0., 1., 1.],\n",
       "       [0., 0., 1.],\n",
       "       [1., 1., 0.]])"
      ]
     },
     "execution_count": 10,
     "metadata": {},
     "output_type": "execute_result"
    }
   ],
   "source": [
    "# Mengubah nilai >0.5 menjadi 1 dan <=0.5 menjadi 0\n",
    "preprocessor = preprocessing.Binarizer(threshold=0.5)\n",
    "binarised_data = preprocessor.transform(sample_data) # Menggunakan transform () untuk mengubah nilai\n",
    "binarised_data"
   ]
  },
  {
   "cell_type": "markdown",
   "id": "61828b3a",
   "metadata": {
    "id": "61828b3a"
   },
   "source": [
    "## Scaling\n",
    "\n",
    "- Digunakan untuk mengubah nilai pada features sesuai dengan range yang ditentukan"
   ]
  },
  {
   "cell_type": "code",
   "execution_count": null,
   "id": "9039432b",
   "metadata": {
    "colab": {
     "base_uri": "https://localhost:8080/"
    },
    "id": "9039432b",
    "outputId": "ffda374e-b8ef-46d3-b45e-8e63b6f7e3bd"
   },
   "outputs": [
    {
     "data": {
      "text/plain": [
       "array([[ 2.1, -1.9,  5.5],\n",
       "       [-1.5,  2.4,  3.5],\n",
       "       [ 0.5, -7.9,  5.6],\n",
       "       [ 5.9,  2.3, -5.8]])"
      ]
     },
     "execution_count": 11,
     "metadata": {},
     "output_type": "execute_result"
    }
   ],
   "source": [
    "sample_data"
   ]
  },
  {
   "cell_type": "code",
   "execution_count": null,
   "id": "b423f3d6",
   "metadata": {
    "colab": {
     "base_uri": "https://localhost:8080/"
    },
    "id": "b423f3d6",
    "outputId": "72def228-e63d-4d27-a8f6-17ab7c368152"
   },
   "outputs": [
    {
     "data": {
      "text/plain": [
       "array([[0.48648649, 0.58252427, 0.99122807],\n",
       "       [0.        , 1.        , 0.81578947],\n",
       "       [0.27027027, 0.        , 1.        ],\n",
       "       [1.        , 0.99029126, 0.        ]])"
      ]
     },
     "execution_count": 12,
     "metadata": {},
     "output_type": "execute_result"
    }
   ],
   "source": [
    "preprocessor = preprocessing.MinMaxScaler(feature_range=(0, 1))\n",
    "preprocessor.fit(sample_data)\n",
    "scaled_data = preprocessor.transform(sample_data)\n",
    "scaled_data"
   ]
  },
  {
   "cell_type": "code",
   "execution_count": null,
   "id": "ea976067",
   "metadata": {
    "colab": {
     "base_uri": "https://localhost:8080/"
    },
    "id": "ea976067",
    "outputId": "cd496785-1188-442b-f33f-a44cc6d7fc1e",
    "scrolled": true
   },
   "outputs": [
    {
     "data": {
      "text/plain": [
       "array([[0.48648649, 0.58252427, 0.99122807],\n",
       "       [0.        , 1.        , 0.81578947],\n",
       "       [0.27027027, 0.        , 1.        ],\n",
       "       [1.        , 0.99029126, 0.        ]])"
      ]
     },
     "execution_count": 13,
     "metadata": {},
     "output_type": "execute_result"
    }
   ],
   "source": [
    "scaled_data = preprocessor.fit_transform(sample_data) # fit dan transform sekaligus\n",
    "scaled_data"
   ]
  },
  {
   "cell_type": "markdown",
   "id": "d4cf3886",
   "metadata": {
    "id": "d4cf3886"
   },
   "source": [
    "## L1 Normalisation: Least Absolute Deviations"
   ]
  },
  {
   "cell_type": "code",
   "execution_count": null,
   "id": "fK7b3D3AsAfA",
   "metadata": {
    "colab": {
     "base_uri": "https://localhost:8080/"
    },
    "id": "fK7b3D3AsAfA",
    "outputId": "c46893be-6ece-4f32-e886-4bc4e4b97adb"
   },
   "outputs": [
    {
     "data": {
      "text/plain": [
       "array([[ 2.1, -1.9,  5.5],\n",
       "       [-1.5,  2.4,  3.5],\n",
       "       [ 0.5, -7.9,  5.6],\n",
       "       [ 5.9,  2.3, -5.8]])"
      ]
     },
     "execution_count": 14,
     "metadata": {},
     "output_type": "execute_result"
    }
   ],
   "source": [
    "sample_data"
   ]
  },
  {
   "cell_type": "code",
   "execution_count": null,
   "id": "afdf7a4c",
   "metadata": {
    "colab": {
     "base_uri": "https://localhost:8080/"
    },
    "id": "afdf7a4c",
    "outputId": "8854caea-b8a3-4e92-f27d-8ae812752843"
   },
   "outputs": [
    {
     "data": {
      "text/plain": [
       "array([[ 0.22105263, -0.2       ,  0.57894737],\n",
       "       [-0.2027027 ,  0.32432432,  0.47297297],\n",
       "       [ 0.03571429, -0.56428571,  0.4       ],\n",
       "       [ 0.42142857,  0.16428571, -0.41428571]])"
      ]
     },
     "execution_count": 15,
     "metadata": {},
     "output_type": "execute_result"
    }
   ],
   "source": [
    "l1_normalised_data = preprocessing.normalize(sample_data, norm=\"l1\")\n",
    "l1_normalised_data"
   ]
  },
  {
   "cell_type": "markdown",
   "id": "c69484e4",
   "metadata": {
    "id": "c69484e4"
   },
   "source": [
    "## L2 Normalisation : Least Squares"
   ]
  },
  {
   "cell_type": "code",
   "execution_count": null,
   "id": "3dbc123b",
   "metadata": {
    "colab": {
     "base_uri": "https://localhost:8080/"
    },
    "id": "3dbc123b",
    "outputId": "3fc6d590-ea81-4014-8079-d79b2f1be49c"
   },
   "outputs": [
    {
     "data": {
      "text/plain": [
       "array([[ 0.33946114, -0.30713151,  0.88906489],\n",
       "       [-0.33325106,  0.53320169,  0.7775858 ],\n",
       "       [ 0.05156558, -0.81473612,  0.57753446],\n",
       "       [ 0.68706914,  0.26784051, -0.6754239 ]])"
      ]
     },
     "execution_count": 16,
     "metadata": {},
     "output_type": "execute_result"
    }
   ],
   "source": [
    "l2_normalised_data = preprocessing.normalize(sample_data, norm=\"l2\")\n",
    "l2_normalised_data"
   ]
  }
 ],
 "metadata": {
  "colab": {
   "provenance": []
  },
  "kernelspec": {
   "display_name": "Python 3 (ipykernel)",
   "language": "python",
   "name": "python3"
  },
  "language_info": {
   "codemirror_mode": {
    "name": "ipython",
    "version": 3
   },
   "file_extension": ".py",
   "mimetype": "text/x-python",
   "name": "python",
   "nbconvert_exporter": "python",
   "pygments_lexer": "ipython3",
   "version": "3.11.7"
  }
 },
 "nbformat": 4,
 "nbformat_minor": 5
}
